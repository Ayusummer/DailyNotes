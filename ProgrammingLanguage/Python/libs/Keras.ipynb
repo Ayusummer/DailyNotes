{
 "cells": [
  {
   "cell_type": "markdown",
   "metadata": {},
   "source": [
    "# Keras\n",
    "\n"
   ]
  },
  {
   "cell_type": "markdown",
   "metadata": {},
   "source": [
    "## Problems\n"
   ]
  },
  {
   "cell_type": "markdown",
   "metadata": {},
   "source": [
    "### AttributeError: 'str' object has no attribute 'decode'\n",
    "\n",
    "> [keras保存加载模型报错“AttributeError: ‘str‘ object has no attribute ‘decode‘”_廿十七的博客-CSDN博客](https://blog.csdn.net/qq_43550820/article/details/111597946)\n",
    "\n",
    "keras 要和 hdf5 适配, 需要降级 hdf5\n",
    "\n",
    "```shell\n",
    "pip install h5py==2.10.0\n",
    "```"
   ]
  },
  {
   "cell_type": "code",
   "execution_count": null,
   "metadata": {},
   "outputs": [],
   "source": []
  }
 ],
 "metadata": {
  "interpreter": {
   "hash": "be333bfaf4b40d9f2128eb06ccf81a284655b9f6c456fc22510d92c5f9e0d280"
  },
  "kernelspec": {
   "display_name": "Python 3.8.5 64-bit ('base': conda)",
   "language": "python",
   "name": "python3"
  },
  "language_info": {
   "name": "python",
   "version": "3.8.5"
  },
  "orig_nbformat": 4
 },
 "nbformat": 4,
 "nbformat_minor": 2
}
