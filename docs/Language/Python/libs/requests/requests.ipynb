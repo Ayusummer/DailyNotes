{
 "cells": [
  {
   "cell_type": "markdown",
   "metadata": {
    "tags": []
   },
   "source": [
    "# requests\n"
   ]
  },
  {
   "cell_type": "markdown",
   "metadata": {},
   "source": [
    "## requests, aiohttp, http\n",
    "\n",
    "> [浅度测评：requests、aiohttp、httpx 我应该用哪一个？ - 知乎 (zhihu.com)](https://zhuanlan.zhihu.com/p/103711201)\n",
    "\n",
    "在不借助其他第三方库的情况下\n",
    "- `requests`只能发送同步请求\n",
    "- `aiohttp`只能发送异步请求\n",
    "- `httpx`既能发送同步请求，又能发送异步请求\n",
    "\n",
    "- 如果你只发几条请求。那么使用 requests 或者 httpx 的同步模式，代码最简单。\n",
    "- 如果你要发送很多请求，但是有些地方要发送同步请求，有些地方要发送异步请求，那么使用 httpx 最省事。\n",
    "- 如果你要发送很多请求，并且越快越好，那么使用 aiohttp 最快。\n"
   ]
  },
  {
   "cell_type": "markdown",
   "metadata": {},
   "source": [
    "## 报错收集\n"
   ]
  },
  {
   "cell_type": "markdown",
   "metadata": {},
   "source": [
    "### SSLError\n",
    "\n",
    "> [【解决方案】requests.exceptions.SSLError: HTTPSConnectionPool_肥宅_Sean的博客-CSDN博客_requests.exceptions.sslerror](https://blog.csdn.net/a19990412/article/details/80358084)\n",
    ">\n",
    "> ---\n",
    "\n",
    "![image-20221011190748125](http://cdn.ayusummer233.top/img/202210111907350.png)\n",
    "\n",
    "有些网页，一开始用脚本语言（python）去访问的时候会遇到这样问题。\n",
    "\n",
    "一般这样的网站用浏览器去访问的时候，会弹出这样的警告“您的链接不是私密链接”。\n",
    "\n",
    "首先需要看下是不是打开了抓包工具, 如果开了的话可能会导致运行python自动改变端口，造成ssl错误。\n",
    "\n"
   ]
  },
  {
   "cell_type": "code",
   "execution_count": 1,
   "metadata": {},
   "outputs": [],
   "source": [
    "reqURL = 'https://39.156.66.10:443'\n",
    "# 103.41.167.234"
   ]
  },
  {
   "cell_type": "code",
   "execution_count": null,
   "metadata": {},
   "outputs": [],
   "source": [
    "from requests import get\n",
    "r = get(reqURL)\n",
    "print(r.status_code)"
   ]
  },
  {
   "cell_type": "markdown",
   "metadata": {},
   "source": [
    "#### 解决方案1 - 取消 urllib3 的警告\n",
    "\n",
    "\n"
   ]
  },
  {
   "cell_type": "code",
   "execution_count": 7,
   "metadata": {},
   "outputs": [
    {
     "name": "stdout",
     "output_type": "stream",
     "text": [
      "405\n"
     ]
    }
   ],
   "source": [
    "from requests import get, packages\n",
    "packages.urllib3.disable_warnings()\n",
    "r = get(reqURL, verify=False)\n",
    "print(r.status_code)"
   ]
  },
  {
   "cell_type": "markdown",
   "metadata": {},
   "source": [
    "#### 解决方案2 - 使用 logging 捕获 warning\n"
   ]
  },
  {
   "cell_type": "code",
   "execution_count": 9,
   "metadata": {},
   "outputs": [
    {
     "name": "stdout",
     "output_type": "stream",
     "text": [
      "405\n"
     ]
    }
   ],
   "source": [
    "from requests import get\n",
    "import logging\n",
    "logging.captureWarnings(True)\n",
    "r = get(reqURL, verify=False)\n",
    "print(r.status_code)"
   ]
  },
  {
   "cell_type": "markdown",
   "metadata": {},
   "source": [
    "## 随机 headers\n",
    "\n",
    "> [Python爬虫构建随机请求头headers_乐亦亦乐的博客-CSDN博客_随机header](https://blog.csdn.net/qq_41251963/article/details/84679300)\n",
    "\n"
   ]
  },
  {
   "cell_type": "code",
   "execution_count": 3,
   "metadata": {},
   "outputs": [
    {
     "name": "stdout",
     "output_type": "stream",
     "text": [
      "Mozilla/5.0 (Windows NT 6.2; WOW64) AppleWebKit/537.15 (KHTML, like Gecko) Chrome/24.0.1295.0 Safari/537.15\n",
      "Mozilla/5.0 (Windows NT 6.2) AppleWebKit/537.36 (KHTML, like Gecko) Chrome/28.0.1467.0 Safari/537.36\n",
      "Mozilla/5.0 (Windows NT 10.0) AppleWebKit/537.36 (KHTML, like Gecko) Chrome/40.0.2214.93 Safari/537.36\n",
      "Mozilla/5.0 (Windows NT 5.1) AppleWebKit/537.36 (KHTML, like Gecko) Chrome/31.0.1650.16 Safari/537.36\n",
      "Mozilla/5.0 (Windows NT 6.2; WOW64) AppleWebKit/537.36 (KHTML, like Gecko) Chrome/27.0.1500.55 Safari/537.36\n"
     ]
    }
   ],
   "source": [
    "from fake_useragent import UserAgent\n",
    "for i in range(5):\n",
    "    print(UserAgent().random)"
   ]
  }
 ],
 "metadata": {
  "kernelspec": {
   "display_name": "Python 3.10.4 ('pl')",
   "language": "python",
   "name": "python3"
  },
  "language_info": {
   "codemirror_mode": {
    "name": "ipython",
    "version": 3
   },
   "file_extension": ".py",
   "mimetype": "text/x-python",
   "name": "python",
   "nbconvert_exporter": "python",
   "pygments_lexer": "ipython3",
   "version": "3.10.4"
  },
  "orig_nbformat": 4,
  "vscode": {
   "interpreter": {
    "hash": "526af95d1ed2fcd5e87194c854c535b0d53eed2d887f5bd0090e9d620abbee53"
   }
  }
 },
 "nbformat": 4,
 "nbformat_minor": 2
}
