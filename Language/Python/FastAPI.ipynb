{
 "cells": [
  {
   "cell_type": "markdown",
   "metadata": {},
   "source": [
    "# 起步\n",
    "\n",
    "> [第一步 - FastAPI (tiangolo.com)](https://fastapi.tiangolo.com/zh/tutorial/first-steps/)\n",
    "\n",
    "基本示例:"
   ]
  },
  {
   "cell_type": "code",
   "execution_count": null,
   "metadata": {},
   "outputs": [],
   "source": [
    "# main.py\n",
    "\n",
    "# 导入 FastAPI\n",
    "from fastapi import FastAPI\n",
    "# 创建一个 FastAPI 实例\n",
    "app = FastAPI()\n",
    "\n",
    "@app.get(\"/\")\n",
    "async def root():\n",
    "    return {\"message\": \"Hello World\"}\n"
   ]
  },
  {
   "cell_type": "markdown",
   "metadata": {},
   "source": [
    "```shell\n",
    "uvicorn main:app --reload\n",
    "```\n",
    "- `main`: `main.py` 文件(一个 Python「模块」)\n",
    "- `app`: 在 `main.py` 文件中通过 `app = FastAPI()` 创建的对象。\n",
    "- `--reload`: 让服务器在更新代码后重新启动。仅在开发时使用该选项。\n",
    "\n",
    "![20220408093533](http://cdn.ayusummer233.top/img/20220408093533.png)\n",
    "\n",
    "- 在浏览器中访问 `http://127.0.0.1:8000`  \n",
    "- 交互式 API 文档: `http://127.0.0.1:8000/docs`\n",
    "  ![20220408093911](http://cdn.ayusummer233.top/img/20220408093911.png)\n",
    "- 可选的 API 文档: `http://127.0.0.1:8000/redoc#operation/read_item_items__item_id__get`\n",
    "  ![20220408094106](http://cdn.ayusummer233.top/img/20220408094106.png)"
   ]
  },
  {
   "cell_type": "markdown",
   "metadata": {},
   "source": [
    "## 导入 FastAPI\n",
    "\n",
    "```python\n",
    "from fastapi import FastAPI\n",
    "```\n",
    "\n",
    "`FastAPI` 是一个为你的 API 提供了所有功能的 Python 类。\n",
    "\n",
    "`FastAPI` 是直接从 [Starlette](https://www.starlette.io/) 继承的类。\n",
    "> [Starlette (worldlink.com.cn)](https://www.worldlink.com.cn/en/osdir/starlette.html)  \n",
    "> ![20220408094954](http://cdn.ayusummer233.top/img/20220408094954.png)\n",
    "\n",
    "可以通过 `FastAPI` 使用所有的 `Starlette` 的功能。"
   ]
  },
  {
   "cell_type": "markdown",
   "metadata": {},
   "source": [
    "## 创建一个 FastAPI 实例\n",
    "\n",
    "```python\n",
    "app = FastAPI()\n",
    "```\n",
    "\n",
    "这里的变量 app 会是 FastAPI 类的一个「实例」\n",
    "\n",
    "这个实例将是创建你所有 API 的主要交互对象。\n",
    "\n",
    "这个 app 同样在如下命令中被 uvicorn 所引用：\n",
    "\n",
    "```bash\n",
    "uvicorn main:app --reload\n",
    "```"
   ]
  },
  {
   "cell_type": "markdown",
   "metadata": {},
   "source": [
    "## 创建一个路径操作\n"
   ]
  },
  {
   "cell_type": "markdown",
   "metadata": {},
   "source": [
    "### 路径\n",
    "\n",
    "> [路径 - FastAPI (tiangolo.com)](https://fastapi.tiangolo.com/zh/tutorial/first-steps/#_6)\n",
    "\n",
    "这里的「路径」指的是 URL 中从第一个 / 起的后半部分。\n",
    "\n",
    "所以，在一个这样的 URL 中: `https://example.com/items/foo` 路径会是 `/items/foo`\n",
    "\n",
    "> 「路径」也通常被称为「端点」或「路由」。\n",
    "\n",
    "开发 API 时，「路径」是用来分离「关注点」和「资源」的主要手段。"
   ]
  },
  {
   "cell_type": "markdown",
   "metadata": {},
   "source": [
    "### 操作\n",
    "\n",
    "> [操作 - FastAPI (tiangolo.com)](https://fastapi.tiangolo.com/zh/tutorial/first-steps/#_7)\n",
    "\n",
    "这里的「操作」指的是一种 HTTP「方法」。\n",
    "\n",
    "下列之一:\n",
    "- `POST`\n",
    "- `GET`\n",
    "- `PUT`\n",
    "- `DELETE`\n",
    "\n",
    "以及更少见的几种:\n",
    "- `OPTIONS`\n",
    "- `HEAD`\n",
    "- `PATCH`\n",
    "- `TRACE`\n",
    "\n",
    "在 HTTP 协议中，你可以使用以上的其中一种（或多种）「方法」与每个路径进行通信。\n",
    "\n",
    "在开发 API 时，通常使用特定的 HTTP 方法去执行特定的行为。\n",
    "\n",
    "通常使用：\n",
    "- `POST`: 创建数据。\n",
    "- `GET`: 读取数据。\n",
    "- `PUT`: 更新数据。\n",
    "- `DELETE`: 删除数据。\n",
    "\n",
    "因此，在 OpenAPI 中，每一个 HTTP 方法都被称为「操作」。\n",
    "\n",
    "我们也打算称呼它们为「操作」。\n",
    "\n"
   ]
  },
  {
   "cell_type": "markdown",
   "metadata": {},
   "source": [
    "### 定义一个路径操作装饰器\n",
    "\n",
    "> [定义一个路径操作装饰器 - FastAPI (tiangolo.com)](https://fastapi.tiangolo.com/zh/tutorial/first-steps/#_8)\n",
    "\n",
    "```python\n",
    "@app.get(\"/\")\n",
    "```\n",
    "\n",
    "`@app.get(\"/\") `  告诉 FastAPI 在它下方的函数负责处理如下访问请求：\n",
    "- 请求路径为 `/`\n",
    "- 使用 get 操作\n",
    "\n",
    "> `@something` 语法在 Python 中被称为「装饰器」。  \n",
    "> 装饰器接收位于其下方的函数并且用它完成一些工作。  \n",
    "> 在我们的例子中，这个装饰器告诉 FastAPI 位于其下方的函数对应着路径 / 加上 get 操作。  \n",
    "> 它是一个「路径操作装饰器」。  \n"
   ]
  },
  {
   "cell_type": "markdown",
   "metadata": {},
   "source": [
    "## 定义路径操作函数\n",
    "\n",
    "> [定义路径操作函数- FastAPI (tiangolo.com)](https://fastapi.tiangolo.com/zh/tutorial/first-steps/#4)\n",
    "\n",
    "这是我们的「路径操作函数」：\n",
    "\n",
    "路径：是 /。  \n",
    "操作：是 get。  \n",
    "函数：是位于「装饰器」下方的函数（位于 @app.get(\"/\") 下方）。  \n",
    "\n",
    "```python\n",
    "from fastapi import FastAPI\n",
    "\n",
    "app = FastAPI()\n",
    "\n",
    "@app.get(\"/\")\n",
    "async def root():\n",
    "    return {\"message\": \"Hello World\"}\n",
    "```\n",
    "\n",
    "每当 FastAPI 接收一个使用 GET 方法访问 URL「/」的请求时这个函数会被调用。\n",
    "\n"
   ]
  },
  {
   "cell_type": "markdown",
   "metadata": {},
   "source": [
    "## 返回内容\n",
    "\n",
    "> [返回内容- FastAPI (tiangolo.com)](https://fastapi.tiangolo.com/zh/tutorial/first-steps/#5)\n",
    "\n",
    "```python\n",
    "return {\"message\": \"Hello World\"}\n",
    "```\n",
    "\n",
    "你可以返回一个 dict、list，像 str、int 一样的单个值，等等。\n",
    "\n",
    "你还可以返回 Pydantic 模型（稍后你将了解更多）。\n",
    "\n",
    "还有许多其他将会自动转换为 JSON 的对象和模型（包括 ORM 对象等）。尝试下使用你最喜欢的一种，它很有可能已经被支持。"
   ]
  }
 ],
 "metadata": {
  "interpreter": {
   "hash": "be333bfaf4b40d9f2128eb06ccf81a284655b9f6c456fc22510d92c5f9e0d280"
  },
  "kernelspec": {
   "display_name": "Python 3.8.5 ('base')",
   "language": "python",
   "name": "python3"
  },
  "language_info": {
   "name": "python",
   "version": "3.8.13"
  },
  "orig_nbformat": 4
 },
 "nbformat": 4,
 "nbformat_minor": 2
}
