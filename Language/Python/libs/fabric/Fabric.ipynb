{
 "cells": [
  {
   "cell_type": "markdown",
   "metadata": {},
   "source": [
    "# Fabric\n",
    "\n",
    "> [python linux交互模块(paramiko、fabric与pexpect)_Mr_Bruin612的博客-CSDN博客](https://blog.csdn.net/xiaoxiong0612/article/details/107978738)  \n",
    "> [Welcome to Paramiko! — Paramiko documentation](https://www.paramiko.org/)  \n",
    "> [paramiko/paramiko: The leading native Python SSHv2 protocol library. (github.com)](https://github.com/paramiko/paramiko)  \n",
    ">  \n",
    "> [Pexpect version 4.8 — Pexpect 4.8 documentation](https://pexpect.readthedocs.io/en/stable/)  \n",
    "> [pexpect/pexpect: A Python module for controlling interactive programs in a pseudo-terminal (github.com)](https://github.com/pexpect/pexpect)  \n",
    ">   \n",
    "> [Welcome to Fabric! — Fabric documentation (fabfile.org)](https://www.fabfile.org/)  \n",
    "> [fabric/fabric: Simple, Pythonic remote execution and deployment. (github.com)](https://github.com/fabric/fabric)  \n",
    "\n",
    "![image-20221018105531612](http://cdn.ayusummer233.top/img/202210181055549.png)\n",
    "\n",
    "paramiko是基于Python实现的SSH2远程安全连接，支持认证及密钥方法。可以实现远程命令执行，文件传输，中间SSH代理等功能，相对于Pexpect，封装层次更高。\n",
    "\n",
    "Fabric是基于paramiko的基础上做了一层更高的封装，操作起来更加方便。"
   ]
  },
  {
   "cell_type": "markdown",
   "metadata": {},
   "source": [
    "## 概述\n",
    "\n",
    "`Fabric` 是一个高水平的 Python（2.7，3.4以上）库，旨在通过 SSH 远程执行 shell 命令，并返回有用的 Python 对象\n",
    "\n",
    "可以通过 pip 便捷安装\n",
    "\n",
    "```bash\n",
    "pip install fabric\n",
    "```\n",
    "\n",
    "> PS: fabric 适用于 Linux 系统下发任务, 但是不适合连接防火墙进行交互式命令\n"
   ]
  },
  {
   "cell_type": "code",
   "execution_count": null,
   "metadata": {},
   "outputs": [],
   "source": [
    "from fabric import Connection\n",
    "\n",
    "host_ip = '192.168.1.131'  # 服务器地址\n",
    "user_name = 'root' # 服务器用户名\n",
    "password = 'xxx'  # 服务器密码\n",
    "cmd = 'uname -s'  # shell 命令，查询服务器上的时间\n",
    "\n",
    "result = Connection(host_ip,user_name, connect_kwargs={\"password\": password}, connect_timeout=1).run(cmd)\n",
    "msg = f'{result.command} on {result.connection.host}, got stdout:\\n{result.stdout}'\n",
    "# msg = 'Ran {0.command!r} on {0.connection.host}, got stdout:\\n{0.stdout}'\n",
    "print(msg.format(result))\n"
   ]
  }
 ],
 "metadata": {
  "kernelspec": {
   "display_name": "Python 3.10.4 ('pl')",
   "language": "python",
   "name": "python3"
  },
  "language_info": {
   "codemirror_mode": {
    "name": "ipython",
    "version": 3
   },
   "file_extension": ".py",
   "mimetype": "text/x-python",
   "name": "python",
   "nbconvert_exporter": "python",
   "pygments_lexer": "ipython3",
   "version": "3.10.4"
  },
  "orig_nbformat": 4,
  "vscode": {
   "interpreter": {
    "hash": "526af95d1ed2fcd5e87194c854c535b0d53eed2d887f5bd0090e9d620abbee53"
   }
  }
 },
 "nbformat": 4,
 "nbformat_minor": 2
}
