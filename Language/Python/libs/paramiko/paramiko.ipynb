{
 "cells": [
  {
   "cell_type": "markdown",
   "metadata": {},
   "source": [
    "# paramiko"
   ]
  },
  {
   "cell_type": "markdown",
   "metadata": {},
   "source": [
    "## 常见报错\n",
    "\n"
   ]
  },
  {
   "cell_type": "markdown",
   "metadata": {},
   "source": [
    "### Max try count must be an positive integer\n",
    "\n",
    "> [linux下用paramiko登录防火墙设备 - PythonTechWorld](https://pythontechworld.com/article/detail/4nrxiRtPKgKd)  \n",
    "\n",
    "\n",
    "paramiko登录后发送命令的函数有很多，比如说常用的\n",
    "\n",
    "```python\n",
    "stdin,stdout,stderr = ssh.exec_command(cmd,bufsize,timeout)\n",
    "```\n",
    "\n",
    "这条指令不适合用在防火墙，适合用在远程操作linux系统，因为exec_command参数使用只需要执行一次的命令，因为执行完该命令以后，shell会自动回到ssh初始连接的shell状态下。\n",
    "\n",
    "在防火墙上使用这条命令会报 `Max try count must be an positive integer`。\n",
    "\n",
    "可以使用 `ssh.invoke_shell()` \n",
    "\n",
    "```python\n",
    "chan = ssh.invoke_shell() #在SSH server端创建一个交互式的shell，且可以按自己的需求配置伪终端，可以在invoke_shell()函数中添加参数配置。\n",
    "\n",
    "chan.send(cmd+'\\n') #利用send函数发送cmd到SSH server，添加’\\n’做回车来执行shell命令。注意不同的情况，如果执行完telnet命令后，telnet的换行符是\\r\\n\n",
    "\n",
    "chan.recv(bufsize) #通过recv函数获取回显。\n",
    "```"
   ]
  }
 ],
 "metadata": {
  "kernelspec": {
   "display_name": "Python 3.10.4 ('pl')",
   "language": "python",
   "name": "python3"
  },
  "language_info": {
   "name": "python",
   "version": "3.10.4"
  },
  "orig_nbformat": 4,
  "vscode": {
   "interpreter": {
    "hash": "526af95d1ed2fcd5e87194c854c535b0d53eed2d887f5bd0090e9d620abbee53"
   }
  }
 },
 "nbformat": 4,
 "nbformat_minor": 2
}
