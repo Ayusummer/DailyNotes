{
 "cells": [
  {
   "cell_type": "markdown",
   "metadata": {},
   "source": [
    "# Tensorflow"
   ]
  },
  {
   "cell_type": "markdown",
   "metadata": {},
   "source": [
    "## Problems\n",
    "\n"
   ]
  },
  {
   "cell_type": "markdown",
   "metadata": {},
   "source": [
    "### Could not load dynamic library 'cudart64_101.dll'; dlerror: cudart64_101.dll not found\n",
    "\n",
    "> [Could not load dynamic library cublas64_10.dll - 知乎 (zhihu.com)](https://zhuanlan.zhihu.com/p/264161757)   \n",
    "> [cudart64_101.dll free download | DLL‑files.com (dll-files.com)](https://www.dll-files.com/cudart64_101.dll.html)  \n",
    "> [如何解决Win10环境变量太大的问题_caiyaty的博客-CSDN博客_此环境变量太大](https://blog.csdn.net/caiyaty/article/details/91978402)  \n",
    "\n",
    "去下载对应的 dll 文件，解压后将 `cudart64_101.dll` 复制到 `C:\\Windows\\System32` 目录下即可\n",
    "\n",
    "后续可能还会有很多确实 dll 的报错, 可以在 [这里](https://cn.dll-files.com/) 搜索并下载缺失的 dll  \n",
    "也可以看看[这份合集](https://ayusummer-my.sharepoint.com/:f:/g/personal/233_ayusummer_onmicrosoft_com/Esdl83cGQc5OhhWDgR3hBb8BLftD3QxImk9lfe-ctYBfGg?e=RblvcX)有没有\n",
    "\n",
    "可以在 [官方CUDA安装](https://developer.nvidia.cn/cuda-downloads) 选择自己系统版本的安装包进行安装, 然后配置环境变量\n",
    "\n",
    "> 环境变量配置过程中可能会出现 `PATH` 变量过长无法配置的情况, 那么可以在系统变量中新建一个 `CUDA` 变量, 然后将路径配到 `CUDA` 变量中, 然后在 `PATH` 变量中写个 `%CUDA%`    \n",
    "> 需要注意的是配完环境变量后需要重启中断才能重新加载环境变量, 如果用的是 VSCode 的话需要重启 VSCode 才可以加载环境变量  \n",
    "> ![20211230110210_CUDA环境变量配置](http://.ayusummer233.top/img/20211230110210.png)\n",
    "\n",
    "\n"
   ]
  }
 ],
 "metadata": {
  "interpreter": {
   "hash": "be333bfaf4b40d9f2128eb06ccf81a284655b9f6c456fc22510d92c5f9e0d280"
  },
  "kernelspec": {
   "display_name": "Python 3.8.5 64-bit ('base': conda)",
   "language": "python",
   "name": "python3"
  },
  "language_info": {
   "name": "python",
   "version": "3.8.5"
  },
  "orig_nbformat": 4
 },
 "nbformat": 4,
 "nbformat_minor": 2
}
