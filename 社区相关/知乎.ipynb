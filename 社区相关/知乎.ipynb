{
 "cells": [
  {
   "cell_type": "markdown",
   "metadata": {},
   "source": [
    "# 2021-10-5"
   ]
  },
  {
   "cell_type": "code",
   "execution_count": 12,
   "metadata": {},
   "outputs": [
    {
     "name": "stdout",
     "output_type": "stream",
     "text": [
      "(4, 6)\n"
     ]
    }
   ],
   "source": [
    "class Vector2:\n",
    "    def __init__(self, x, y):\n",
    "        self.x = x\n",
    "        self.y = y\n",
    "    def __add__(self, v):\n",
    "        return self.x + v.x, self.y + v.y\n",
    "\n",
    "v1 = Vector2(1, 2)\n",
    "v2 = Vector2(3, 4)\n",
    "print(v1+v2)\n"
   ]
  },
  {
   "cell_type": "code",
   "execution_count": 16,
   "metadata": {},
   "outputs": [
    {
     "name": "stdout",
     "output_type": "stream",
     "text": [
      "<__main__.compi object at 0x0000025FD02643A0>\n",
      "9+11j\n",
      "9+11j\n"
     ]
    }
   ],
   "source": [
    "class compi:\n",
    "    def __init__(self, r, i):\n",
    "        self.r, self.i = r, i\n",
    "    def __add__(self, c):\n",
    "        return compi(self.r + c.r, self.i + c.i)\n",
    "    def add1(self, c):\n",
    "        return \"{0}+{1}j\".format(self.r + c.r, self.i + c.i)\n",
    "    def show(self):\n",
    "        print(\"{0}+{1}j\".format(self.r, self.i))\n",
    "\n",
    "c1 = compi(3, 4)\n",
    "c2 = compi(6, 7)\n",
    "c3 = c1+c2\n",
    "print(c3)\n",
    "c3.show()\n",
    "print(c1.add1(c2))\n",
    "    "
   ]
  },
  {
   "cell_type": "markdown",
   "metadata": {},
   "source": [
    "# 2021-10-7-同心圆绘制\n",
    "\n"
   ]
  },
  {
   "cell_type": "code",
   "execution_count": null,
   "metadata": {},
   "outputs": [
    {
     "ename": "Error",
     "evalue": "Session cannot generate requests",
     "output_type": "error",
     "traceback": [
      "Error: Session cannot generate requests",
      "at w.executeCodeCell (c:\\Users\\233\\.vscode\\extensions\\ms-toolsai.jupyter-2021.8.2041215044\\out\\client\\extension.js:52:301310)",
      "at w.execute (c:\\Users\\233\\.vscode\\extensions\\ms-toolsai.jupyter-2021.8.2041215044\\out\\client\\extension.js:52:300703)",
      "at w.start (c:\\Users\\233\\.vscode\\extensions\\ms-toolsai.jupyter-2021.8.2041215044\\out\\client\\extension.js:52:296367)",
      "at processTicksAndRejections (internal/process/task_queues.js:93:5)",
      "at async t.CellExecutionQueue.executeQueuedCells (c:\\Users\\233\\.vscode\\extensions\\ms-toolsai.jupyter-2021.8.2041215044\\out\\client\\extension.js:52:311160)",
      "at async t.CellExecutionQueue.start (c:\\Users\\233\\.vscode\\extensions\\ms-toolsai.jupyter-2021.8.2041215044\\out\\client\\extension.js:52:310700)"
     ]
    }
   ],
   "source": [
    "import turtle\n",
    "\n",
    "def draw_circle(x, y, r, extent=None, color='red') -> None:\n",
    "    \"\"\"以(x,y)为圆心,r为半径画圆;\n",
    "\n",
    "    画笔起始点位置并非圆心,而是圆心垂线与下圆弧的交点,然后逆时针画圆\n",
    "\n",
    "    :param x: 圆心横坐标\n",
    "    :param y: 圆心纵坐标\n",
    "    :param r: 圆的半径\n",
    "    :param extent: 弧度\n",
    "    :param color: 线条颜色(默认为红色)\n",
    "    \"\"\"\n",
    "    turtle.color(color)     # 设置画笔颜色\n",
    "    turtle.penup()          # 画笔抬起 -- 移动时不画线\n",
    "    turtle.goto(x+r, y)     # 将笔尖移动到(x+r,y)\n",
    "    turtle.setheading(90)   # 海龟朝北\n",
    "    turtle.pendown()        # 落笔\n",
    "    turtle.circle(r, extent)        # 画圆\n",
    "\n",
    "def draw_oncentric_circles(center:tuple ,nums: int, radius:int):\n",
    "    \"\"\"绘制 nums 个以 center 为圆心, radius 为外圆半径的同心圆\n",
    "\n",
    "    :param center: 二元元组, 表示同心圆圆心, 如 (0, 0)\n",
    "    :param nums: 同心圆数目\n",
    "    :param radius: 最外层同心圆的半径\n",
    "    \"\"\"\n",
    "    for i in range(0, nums):\n",
    "        draw_circle(center[0], center[1], (i + 1) * (radius / nums))\n",
    "\n",
    "# 大背景定义,绘图模具初始化,海龟初始化\n",
    "turtle.bgcolor(\"black\")  # 还原示例图片中的黑色底色\n",
    "turtle.speed(0)  # 设置笔头移动速度->0->最快\n",
    "turtle.ht()  # 隐藏海龟,提高绘制速度\n",
    "\n",
    "nums = 4\n",
    "radius = 200\n",
    "center = (0, 0)\n",
    "\n",
    "draw_oncentric_circles(center, nums, radius)\n",
    "\n",
    "turtle.done()\n"
   ]
  },
  {
   "cell_type": "markdown",
   "metadata": {},
   "source": [
    "# 2021-10-12-字符串部分倒序\n",
    "\n",
    "str = \"Python_Rookie\", 将其部分倒序得到: \"_nohtyPeikooR\"\n"
   ]
  },
  {
   "cell_type": "code",
   "execution_count": 2,
   "metadata": {},
   "outputs": [
    {
     "name": "stdout",
     "output_type": "stream",
     "text": [
      "_nohtyPeikooR\n"
     ]
    }
   ],
   "source": [
    "# 使用索引分割字符串并索引倒序\n",
    "str = \"Python_Rookie\"\n",
    "str = str[:7][::-1]+str[7:][::-1]\n",
    "print(str)"
   ]
  },
  {
   "cell_type": "markdown",
   "metadata": {},
   "source": [
    "# 2021-10-17-第一个只出现一次的字符\n"
   ]
  },
  {
   "cell_type": "code",
   "execution_count": 7,
   "metadata": {},
   "outputs": [
    {
     "data": {
      "text/plain": [
       "'b'"
      ]
     },
     "execution_count": 7,
     "metadata": {},
     "output_type": "execute_result"
    }
   ],
   "source": [
    "from typing import List\n",
    "def find(strc:str)->str:\n",
    "    dic = dict()\n",
    "    for value in strc:\n",
    "        dic[value] = dic[value] + 1 if value in dic else 1\n",
    "    for key, value in dic.items():\n",
    "        if value == 1:\n",
    "            return key\n",
    "\n",
    "strc = \"abaccdeff\"\n",
    "find(strc)\n",
    "\n"
   ]
  },
  {
   "cell_type": "markdown",
   "metadata": {},
   "source": [
    "# 2021-10-18-调整数组顺序使奇数位于偶数前面\n",
    "\n",
    "输入一个整数数组, 实现一个函数来调整该数组中数字的顺序, 使得所有奇数位于数组前半部分, 所有偶数位于数组后半部分"
   ]
  },
  {
   "cell_type": "code",
   "execution_count": 11,
   "metadata": {},
   "outputs": [
    {
     "name": "stdout",
     "output_type": "stream",
     "text": [
      "[1, 3, 5, 11, 13, 4, 6, 6, 10]\n"
     ]
    }
   ],
   "source": [
    "from typing import List\n",
    "def adjust(lst:List)->List:\n",
    "    lst_left = list()\n",
    "    lst_right = list()\n",
    "    for i in lst:\n",
    "        if i & 1 == 0:\n",
    "            lst_right.append(i)\n",
    "        else:\n",
    "            lst_left.append(i)\n",
    "    lst_left.extend(lst_right)\n",
    "    return lst_left\n",
    "\n",
    "lst = [1,3,4,6,5,6,10,11,13]\n",
    "lst = adjust(lst)\n",
    "print(lst)"
   ]
  },
  {
   "cell_type": "code",
   "execution_count": 1,
   "metadata": {},
   "outputs": [
    {
     "name": "stdout",
     "output_type": "stream",
     "text": [
      "[1, 3, 13, 11, 5, 10, 6, 6, 4]\n"
     ]
    }
   ],
   "source": [
    "from typing import List\n",
    "def adjust(lst:List)->List:\n",
    "    left = 0\n",
    "    right = len(lst) - 1\n",
    "    while left != right:\n",
    "        if lst[left] & 1 == 0:\n",
    "            lst[left], lst[right] = lst[right], lst[left]\n",
    "            right -= 1\n",
    "        else:\n",
    "            left += 1\n",
    "    return lst\n",
    "    \n",
    "\n",
    "lst = [1,3,4,6,5,6,10,11,13]\n",
    "lst = adjust(lst)\n",
    "print(lst)"
   ]
  }
 ],
 "metadata": {
  "interpreter": {
   "hash": "be333bfaf4b40d9f2128eb06ccf81a284655b9f6c456fc22510d92c5f9e0d280"
  },
  "kernelspec": {
   "display_name": "Python 3.8.5 64-bit ('base': conda)",
   "name": "python3"
  },
  "language_info": {
   "codemirror_mode": {
    "name": "ipython",
    "version": 3
   },
   "file_extension": ".py",
   "mimetype": "text/x-python",
   "name": "python",
   "nbconvert_exporter": "python",
   "pygments_lexer": "ipython3",
   "version": "3.8.5"
  },
  "orig_nbformat": 4
 },
 "nbformat": 4,
 "nbformat_minor": 2
}
