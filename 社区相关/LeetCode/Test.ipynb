{
 "cells": [
  {
   "cell_type": "markdown",
   "source": [
    "# 2021-8-23\r\n",
    "- T1646.获取生成数组中的最大值\r\n",
    "- [获取生成数组中的最大值](https://leetcode-cn.com/problems/get-maximum-in-generated-array/description/)"
   ],
   "metadata": {}
  },
  {
   "cell_type": "code",
   "execution_count": 1,
   "source": [
    "lst = [None]*8\r\n",
    "lst"
   ],
   "outputs": [
    {
     "output_type": "execute_result",
     "data": {
      "text/plain": [
       "[None, None, None, None, None, None, None, None]"
      ]
     },
     "metadata": {},
     "execution_count": 1
    }
   ],
   "metadata": {}
  },
  {
   "cell_type": "markdown",
   "source": [
    "获取列表末尾元素"
   ],
   "metadata": {}
  },
  {
   "cell_type": "code",
   "execution_count": 6,
   "source": [
    "lst = [0, 1, 2, 3, 4, 5, 6]\r\n",
    "max(lst[-1], lst[-2]  )"
   ],
   "outputs": [
    {
     "output_type": "execute_result",
     "data": {
      "text/plain": [
       "6"
      ]
     },
     "metadata": {},
     "execution_count": 6
    }
   ],
   "metadata": {}
  },
  {
   "cell_type": "markdown",
   "source": [
    "测试实例"
   ],
   "metadata": {}
  },
  {
   "cell_type": "code",
   "execution_count": 1,
   "source": [
    "def getMaximumGenerated( n: int) -> int:\r\n",
    "    nums = [0]*(n+1)\r\n",
    "    nums[1] = 1\r\n",
    "    i = 2\r\n",
    "    while i < n+1:\r\n",
    "        if i%2 == 0:\r\n",
    "            nums[i] = nums[i//2]\r\n",
    "        else:\r\n",
    "            nums[i] = nums[i//2] + nums[i//2 + 1]\r\n",
    "        i += 1\r\n",
    "    print(nums)\r\n",
    "    return max(nums[-1], nums[-2], nums[-3])\r\n",
    "\r\n",
    "getMaximumGenerated(5)\r\n"
   ],
   "outputs": [
    {
     "output_type": "stream",
     "name": "stdout",
     "text": [
      "[0, 1, 1, 2, 1, 3]\n"
     ]
    },
    {
     "output_type": "execute_result",
     "data": {
      "text/plain": [
       "3"
      ]
     },
     "metadata": {},
     "execution_count": 1
    }
   ],
   "metadata": {}
  },
  {
   "cell_type": "code",
   "execution_count": 3,
   "source": [
    "# 三目运算符\r\n",
    "max_n = 2 if 2>1 else 1\r\n",
    "max_n"
   ],
   "outputs": [
    {
     "output_type": "execute_result",
     "data": {
      "text/plain": [
       "2"
      ]
     },
     "metadata": {},
     "execution_count": 3
    }
   ],
   "metadata": {}
  },
  {
   "cell_type": "markdown",
   "source": [
    "转变成了一个求函数最大值的问题  \r\n",
    "最大值应该出现在倒数第1或第二个奇数索引处  \r\n",
    "貌似随着数组大小增大"
   ],
   "metadata": {}
  },
  {
   "cell_type": "markdown",
   "source": [
    "# 2021-8-24\r\n",
    "- [787-K 站中转内最便宜的航班](https://leetcode-cn.com/problems/cheapest-flights-within-k-stops/description/)\r\n"
   ],
   "metadata": {}
  },
  {
   "cell_type": "code",
   "execution_count": 6,
   "source": [
    "n = 6\r\n",
    "k = 2\r\n",
    "f = [[float(\"inf\")] * n for _ in range(k + 2)]\r\n",
    "f"
   ],
   "outputs": [
    {
     "output_type": "execute_result",
     "data": {
      "text/plain": [
       "[[inf, inf, inf, inf, inf, inf],\n",
       " [inf, inf, inf, inf, inf, inf],\n",
       " [inf, inf, inf, inf, inf, inf],\n",
       " [inf, inf, inf, inf, inf, inf]]"
      ]
     },
     "metadata": {},
     "execution_count": 6
    }
   ],
   "metadata": {}
  },
  {
   "cell_type": "code",
   "execution_count": 10,
   "source": [
    "def findCheapestPrice(n, flights, src, dst, k: int) -> int:\r\n",
    "    f = [[float(\"inf\")] * n for _ in range(k + 2)]\r\n",
    "    f[0][src] = 0\r\n",
    "    for t in range(1, k + 2):\r\n",
    "        for j, i, cost in flights:\r\n",
    "            f[t][i] = min(f[t][i], f[t - 1][j] + cost)\r\n",
    "            print(f)\r\n",
    "    \r\n",
    "    ans = min(f[t][dst] for t in range(1, k + 2))\r\n",
    "    print(f)\r\n",
    "    return -1 if ans == float(\"inf\") else ans\r\n",
    "    \r\n",
    "n = 3\r\n",
    "flights = [[0,1,100],[1,2,100],[0,2,500]]\r\n",
    "src = 0\r\n",
    "dst = 2\r\n",
    "k = 1\r\n",
    "findCheapestPrice(n, flights, src, dst, k)"
   ],
   "outputs": [
    {
     "output_type": "stream",
     "name": "stdout",
     "text": [
      "[[0, inf, inf], [inf, 100, inf], [inf, inf, inf]]\n",
      "[[0, inf, inf], [inf, 100, inf], [inf, inf, inf]]\n",
      "[[0, inf, inf], [inf, 100, 500], [inf, inf, inf]]\n",
      "[[0, inf, inf], [inf, 100, 500], [inf, inf, inf]]\n",
      "[[0, inf, inf], [inf, 100, 500], [inf, inf, 200]]\n",
      "[[0, inf, inf], [inf, 100, 500], [inf, inf, 200]]\n",
      "[[0, inf, inf], [inf, 100, 500], [inf, inf, 200]]\n"
     ]
    },
    {
     "output_type": "execute_result",
     "data": {
      "text/plain": [
       "200"
      ]
     },
     "metadata": {},
     "execution_count": 10
    }
   ],
   "metadata": {}
  },
  {
   "cell_type": "code",
   "execution_count": 13,
   "source": [
    "def findCheapestPrice(n, flights, src, dst, k: int) -> int:\r\n",
    "    f = [float(\"inf\")] * n\r\n",
    "    f[src] = 0\r\n",
    "    ans = float(\"inf\")\r\n",
    "    for t in range(1, k + 2):\r\n",
    "        g = [float(\"inf\")] * n\r\n",
    "        for j, i, cost in flights:\r\n",
    "            g[i] = min(g[i], f[j] + cost)\r\n",
    "        f = g\r\n",
    "        print(f)\r\n",
    "        ans = min(ans, f[dst])\r\n",
    "    \r\n",
    "    print(f)\r\n",
    "    return -1 if ans == float(\"inf\") else ans\r\n",
    "\r\n",
    "n = 3\r\n",
    "flights = [[0,1,100],[1,2,100],[0,2,500]]\r\n",
    "src = 0\r\n",
    "dst = 2\r\n",
    "k = 1\r\n",
    "findCheapestPrice(n, flights, src, dst, k)"
   ],
   "outputs": [
    {
     "output_type": "stream",
     "name": "stdout",
     "text": [
      "[inf, 100, 500]\n",
      "[inf, inf, 200]\n",
      "[inf, inf, 200]\n"
     ]
    },
    {
     "output_type": "execute_result",
     "data": {
      "text/plain": [
       "200"
      ]
     },
     "metadata": {},
     "execution_count": 13
    }
   ],
   "metadata": {}
  },
  {
   "cell_type": "markdown",
   "source": [
    "-----\r\n",
    "# 2021-8-25-[797.所有可能的路径](https://leetcode-cn.com/problems/all-paths-from-source-to-target/description/)\r\n",
    "\r\n",
    "    "
   ],
   "metadata": {}
  },
  {
   "cell_type": "code",
   "execution_count": 12,
   "source": [
    "# 测试代码框架\r\n",
    "from typing import List\r\n",
    "\r\n",
    "class Solution:\r\n",
    "    def allPathsSourceTarget(self, graph: List[List[int]]) -> List[List[int]]:\r\n",
    "        return\r\n",
    "\r\n",
    "solution  = Solution()\r\n",
    "graph = [[1,2],[3],[3],[]]\r\n",
    "solution.allPathsSourceTarget(graph)\r\n",
    "\r\n",
    "# 示例输出: [0, 1, 3], [0, 2, 3]\r\n"
   ],
   "outputs": [],
   "metadata": {}
  },
  {
   "cell_type": "code",
   "execution_count": 32,
   "source": [
    "# 尝试深度优先搜索\r\n",
    "def allPathsSourceTarget(graph):\r\n",
    "    ans = list()\r\n",
    "    stk = list()\r\n",
    "\r\n",
    "    def dfs(x: int):\r\n",
    "        if x == len(graph) - 1:\r\n",
    "            print(stk)\r\n",
    "            ans.append(stk)\r\n",
    "            return\r\n",
    "        \r\n",
    "        for y in graph[x]:\r\n",
    "            stk.append(y)\r\n",
    "            dfs(y)\r\n",
    "            stk.pop()\r\n",
    "    \r\n",
    "    stk.append(0)\r\n",
    "    dfs(0)\r\n",
    "    return ans\r\n",
    "\r\n",
    "\r\n",
    "            \r\n",
    "\r\n",
    "graph = [[1,2],[3],[3],[]]\r\n",
    "allPathsSourceTarget(graph)"
   ],
   "outputs": [
    {
     "output_type": "stream",
     "name": "stdout",
     "text": [
      "[0, 1, 3]\n",
      "[0, 2, 3]\n"
     ]
    },
    {
     "output_type": "execute_result",
     "data": {
      "text/plain": [
       "[[0], [0]]"
      ]
     },
     "metadata": {},
     "execution_count": 32
    }
   ],
   "metadata": {}
  },
  {
   "cell_type": "code",
   "execution_count": 17,
   "source": [
    "lst = [1, 2, 3]\r\n",
    "lst[::-1]\r\n",
    "\r\n",
    "len(lst)\r\n",
    "\r\n",
    "# for t in range(len(lst) -1, -1, -1):\r\n",
    "#     print(t)\r\n",
    "\r\n",
    "lst[-1]\r\n",
    "\r\n",
    "lst[:]\r\n",
    "lst\r\n",
    "# lst.pop()\r\n",
    "lst.append(lst[:])\r\n",
    "lst"
   ],
   "outputs": [
    {
     "output_type": "execute_result",
     "data": {
      "text/plain": [
       "[1, 2, 3, [1, 2, 3]]"
      ]
     },
     "metadata": {},
     "execution_count": 17
    }
   ],
   "metadata": {}
  },
  {
   "cell_type": "code",
   "execution_count": 23,
   "source": [
    "lst1 = [[0, 1]]\r\n",
    "lst2 = [2, 3, 4]\r\n",
    "lst1.append(lst2[:])\r\n",
    "lst1"
   ],
   "outputs": [
    {
     "output_type": "execute_result",
     "data": {
      "text/plain": [
       "[[0, 1], [2, 3, 4]]"
      ]
     },
     "metadata": {},
     "execution_count": 23
    }
   ],
   "metadata": {}
  },
  {
   "cell_type": "markdown",
   "source": [
    "---\r\n",
    "# 2021-8-26\r\n",
    "\r\n",
    "# [T881-救生艇](https://leetcode-cn.com/problems/boats-to-save-people/description/)"
   ],
   "metadata": {}
  },
  {
   "cell_type": "code",
   "execution_count": 15,
   "source": [
    "# 尽可能多的让更多人坐两艘船\r\n",
    "def numRescueBoats(people, limit: int) -> int:\r\n",
    "    people.sort()\r\n",
    "    ans = 0\r\n",
    "    front = 0\r\n",
    "    back = len(people) - 1\r\n",
    "\r\n",
    "    while front <= back:\r\n",
    "        if people[front] + people[back] <= limit:\r\n",
    "            ans += 1\r\n",
    "            front += 1\r\n",
    "            back -= 1\r\n",
    "        else:\r\n",
    "            ans += 1\r\n",
    "            back -= 1\r\n",
    "\r\n",
    "    return ans\r\n",
    "\r\n",
    "people = [3,5,3,4]\r\n",
    "limit = 5\r\n",
    "numRescueBoats(people, limit)\r\n"
   ],
   "outputs": [
    {
     "output_type": "execute_result",
     "data": {
      "text/plain": [
       "4"
      ]
     },
     "metadata": {},
     "execution_count": 15
    }
   ],
   "metadata": {}
  },
  {
   "cell_type": "markdown",
   "source": [
    "---\r\n",
    "# 2021-8-27-[295 数据流的中位数](https://leetcode-cn.com/problems/find-median-from-data-stream/description/)"
   ],
   "metadata": {}
  },
  {
   "cell_type": "code",
   "execution_count": null,
   "source": [
    "class MedianFinder:\r\n",
    "\r\n",
    "    def __init__(self):\r\n",
    "        return\r\n",
    "    \r\n",
    "    def addNum(self, num: int) -> None:\r\n",
    "        return\r\n",
    "\r\n",
    "    def findMedian(self) -> float:\r\n",
    "        return"
   ],
   "outputs": [],
   "metadata": {}
  },
  {
   "cell_type": "code",
   "execution_count": 7,
   "source": [
    "class MedianFinder:\r\n",
    "\r\n",
    "    def __init__(self):\r\n",
    "        \"\"\"\r\n",
    "        initialize your data structure here.\r\n",
    "        \"\"\"\r\n",
    "        self.lst = list()\r\n",
    "\r\n",
    "    def addNum(self, num: int) -> None:\r\n",
    "        self.lst.append(num)\r\n",
    "        return\r\n",
    "\r\n",
    "\r\n",
    "    def findMedian(self) -> float:\r\n",
    "        lst = self.lst\r\n",
    "        lst.sort()\r\n",
    "        length = len(lst)\r\n",
    "        return  (lst[length//2] + lst[length//2-1]) / 2  if length % 2 == 0 \\\r\n",
    "            else lst[length//2]\r\n",
    "\r\n",
    "\r\n",
    "obj = MedianFinder()\r\n",
    "obj.addNum(1)\r\n",
    "obj.addNum(2)\r\n",
    "print(obj.findMedian())\r\n",
    "obj.addNum(3) \r\n",
    "print(obj.findMedian())"
   ],
   "outputs": [
    {
     "output_type": "stream",
     "name": "stdout",
     "text": [
      "1.5\n",
      "2\n"
     ]
    }
   ],
   "metadata": {}
  },
  {
   "cell_type": "code",
   "execution_count": 12,
   "source": [
    "from heapq import heappop, heappush\r\n",
    "\r\n",
    "class MedianFinder:\r\n",
    "\r\n",
    "    def __init__(self):\r\n",
    "        self.queMin = list()\r\n",
    "        self.queMax = list()\r\n",
    "    \r\n",
    "    def addNum(self, num: int) -> None:\r\n",
    "        queMin_ = self.queMin\r\n",
    "        queMax_ = self.queMax\r\n",
    "\r\n",
    "        if not queMin_ or num <= -queMin_[0]:\r\n",
    "            heappush(queMin_, -num)\r\n",
    "            if len(queMax_) + 1 < len(queMin_):\r\n",
    "                heappush(queMax_, -heappop(queMin_))\r\n",
    "        else:\r\n",
    "            heappush(queMax_, num)\r\n",
    "            if len(queMax_) > len(queMin_):\r\n",
    "                heappush(queMin_, -heappop(queMax_))\r\n",
    "\r\n",
    "    def findMedian(self) -> float:\r\n",
    "        queMin_ = self.queMin\r\n",
    "        queMax_ = self.queMax\r\n",
    "\r\n",
    "        if len(queMin_) > len(queMax_):\r\n",
    "            return - queMin_[0]\r\n",
    "        else:\r\n",
    "            return (-queMin_[0] + queMax_[0]) / 2\r\n",
    "\r\n",
    "\r\n",
    "obj = MedianFinder()\r\n",
    "obj.addNum(1)\r\n",
    "obj.addNum(2)\r\n",
    "print(obj.findMedian())\r\n",
    "obj.addNum(3) \r\n",
    "print(obj.findMedian())"
   ],
   "outputs": [
    {
     "output_type": "stream",
     "name": "stdout",
     "text": [
      "1.5\n",
      "2\n"
     ]
    }
   ],
   "metadata": {}
  },
  {
   "cell_type": "code",
   "execution_count": 25,
   "source": [
    "# 有序集合 + 双指针\r\n",
    "from sortedcontainers import SortedList\r\n",
    "\r\n",
    "class MedianFinder:\r\n",
    "\r\n",
    "    def __init__(self):\r\n",
    "        self.nums = SortedList()\r\n",
    "        self.left = self.right = None\r\n",
    "        self.left_value = self.right_value = None\r\n",
    "\r\n",
    "    def addNum(self, num: int) -> None:\r\n",
    "        nums_ = self.nums\r\n",
    "\r\n",
    "        n = len(nums_)\r\n",
    "        nums_.add(num)\r\n",
    "\r\n",
    "        if n == 0:\r\n",
    "            self.left = self.right = 0\r\n",
    "        else:\r\n",
    "            # 模拟双指针，当 num 小于 self.left 或 self.right 指向的元素时，num 的加入会导致对应指针向右移动一个位置\r\n",
    "            if num < self.left_value:\r\n",
    "                self.left += 1\r\n",
    "            if num < self.right_value:\r\n",
    "                self.right += 1\r\n",
    "\r\n",
    "            if n & 1:\r\n",
    "                if num < self.left_value:\r\n",
    "                    self.left -= 1\r\n",
    "                else:\r\n",
    "                    self.right += 1\r\n",
    "            else:\r\n",
    "                if self.left_value < num < self.right_value:\r\n",
    "                    self.left += 1\r\n",
    "                    self.right -= 1\r\n",
    "                elif num >= self.right_value:\r\n",
    "                    self.left += 1\r\n",
    "                else:\r\n",
    "                    self.right -= 1\r\n",
    "                    self.left = self.right\r\n",
    "        \r\n",
    "        self.left_value = nums_[self.left]\r\n",
    "        self.right_value = nums_[self.right]\r\n",
    "\r\n",
    "    def findMedian(self) -> float:\r\n",
    "        return (self.left_value + self.right_value) / 2\r\n",
    "\r\n",
    "# 作者：LeetCode-Solution\r\n",
    "# 链接：https://leetcode-cn.com/problems/find-median-from-data-stream/solution/shu-ju-liu-de-zhong-wei-shu-by-leetcode-ktkst/\r\n",
    "# 来源：力扣（LeetCode）\r\n",
    "# 著作权归作者所有。商业转载请联系作者获得授权，非商业转载请注明出处。\r\n",
    "\r\n",
    "obj = MedianFinder()\r\n",
    "obj.addNum(1)\r\n",
    "obj.addNum(2)\r\n",
    "print(obj.findMedian())\r\n",
    "obj.addNum(3) \r\n",
    "print(obj.findMedian())"
   ],
   "outputs": [
    {
     "output_type": "stream",
     "name": "stdout",
     "text": [
      "1.5\n",
      "2.0\n"
     ]
    }
   ],
   "metadata": {}
  },
  {
   "cell_type": "code",
   "execution_count": 24,
   "source": [
    "2 & 4\r\n",
    "10 & 100\r\n",
    "0 & 1\r\n",
    "2 & 1\r\n",
    "4 & 1\r\n",
    "6 & 1\r\n",
    "8 & 1\r\n",
    "# 偶数 & 1 = 0\r\n",
    "# 奇数 & 1 = 1"
   ],
   "outputs": [
    {
     "output_type": "execute_result",
     "data": {
      "text/plain": [
       "0"
      ]
     },
     "metadata": {},
     "execution_count": 24
    }
   ],
   "metadata": {}
  },
  {
   "cell_type": "code",
   "execution_count": null,
   "source": [
    "class MedianFinder:\r\n",
    "\r\n",
    "    def __init__(self):\r\n",
    "        self.nums = SortedList()\r\n",
    "        self.left = self.right = None\r\n",
    "        self.left_value = self.right_value = None\r\n",
    "    \r\n",
    "    def addNum(self, num: int) -> None:\r\n",
    "        nums_ = self.nums\r\n",
    "\r\n",
    "        n = len(nums_)\r\n",
    "        nums_.add(num)\r\n",
    "\r\n",
    "        if n == 0:\r\n",
    "            self.left = self.right = 0\r\n",
    "        else:\r\n",
    "            if num < self.left_value:\r\n",
    "                self.left += 1\r\n",
    "            if num < self.right_value:\r\n",
    "                self.right += 1\r\n",
    "\r\n",
    "            if n & 1:\r\n",
    "                if num < self.left_value:\r\n",
    "                    self.left -= 1\r\n",
    "                else:\r\n",
    "                    self.right += 1\r\n",
    "                    \r\n",
    "\r\n",
    "\r\n",
    "    def findMedian(self) -> float:\r\n",
    "        return"
   ],
   "outputs": [],
   "metadata": {}
  },
  {
   "cell_type": "code",
   "execution_count": 30,
   "source": [
    "from sortedcontainers import SortedList\r\n",
    "\r\n",
    "class MedianFinder:\r\n",
    "\r\n",
    "    def __init__(self):\r\n",
    "        self.nums = SortedList()\r\n",
    "    \r\n",
    "    def addNum(self, num: int) -> None:\r\n",
    "        nums_ = self.nums\r\n",
    "        nums_.add(num)\r\n",
    "\r\n",
    "    def findMedian(self) -> float:\r\n",
    "        nums_ = self.nums\r\n",
    "        n  = len(nums_)\r\n",
    "        return  nums_[n//2]  if n & 1 \\\r\n",
    "            else (nums_[n//2] + nums_[n//2-1]) / 2\r\n",
    "\r\n",
    "\r\n",
    "obj = MedianFinder()\r\n",
    "obj.addNum(1)\r\n",
    "obj.addNum(2)\r\n",
    "print(obj.findMedian())\r\n",
    "obj.addNum(3) \r\n",
    "print(obj.findMedian())"
   ],
   "outputs": [
    {
     "output_type": "stream",
     "name": "stdout",
     "text": [
      "1.5\n",
      "2\n"
     ]
    }
   ],
   "metadata": {}
  },
  {
   "cell_type": "markdown",
   "source": [
    "---\r\n",
    "# 2021-8-28\r\n",
    "- [1480. 一维数组的动态和](https://leetcode-cn.com/problems/running-sum-of-1d-array/)\r\n"
   ],
   "metadata": {}
  },
  {
   "cell_type": "code",
   "execution_count": 4,
   "source": [
    "# 简单迭代\r\n",
    "def runningSum(nums):\r\n",
    "    ans = [nums[0]]\r\n",
    "    slider = nums[0]\r\n",
    "    for i in range(1, len(nums)):\r\n",
    "        slider += nums[i]\r\n",
    "        ans.append(slider)\r\n",
    "    return ans\r\n",
    "\r\n",
    "nums = [1,2,3,4]\r\n",
    "runningSum(nums)"
   ],
   "outputs": [
    {
     "output_type": "execute_result",
     "data": {
      "text/plain": [
       "[1, 3, 6, 10]"
      ]
     },
     "metadata": {},
     "execution_count": 4
    }
   ],
   "metadata": {}
  },
  {
   "cell_type": "code",
   "execution_count": 6,
   "source": [
    "def runningSum(nums):\r\n",
    "    ans = [nums[0]]\r\n",
    "    slider = nums[0]\r\n",
    "    i = 1\r\n",
    "    while i < len(nums):\r\n",
    "        slider += nums[i]\r\n",
    "        ans.append(slider)\r\n",
    "        i += 1\r\n",
    "    return ans\r\n",
    "\r\n",
    "nums = [1,2,3,4]\r\n",
    "runningSum(nums)"
   ],
   "outputs": [
    {
     "output_type": "execute_result",
     "data": {
      "text/plain": [
       "[1, 3, 6, 10]"
      ]
     },
     "metadata": {},
     "execution_count": 6
    }
   ],
   "metadata": {}
  },
  {
   "cell_type": "markdown",
   "source": [
    "---\r\n",
    "# 2021-8-29 [所有奇数长度子数组的和](https://leetcode-cn.com/problems/sum-of-all-odd-length-subarrays/description/)\r\n"
   ],
   "metadata": {}
  },
  {
   "cell_type": "code",
   "execution_count": 5,
   "source": [
    "for i in range(1, 2, 2):\r\n",
    "    print(i)"
   ],
   "outputs": [
    {
     "output_type": "stream",
     "name": "stdout",
     "text": [
      "1\n"
     ]
    }
   ],
   "metadata": {}
  },
  {
   "cell_type": "code",
   "execution_count": 6,
   "source": [
    "lst = [1, 2, 3]\r\n",
    "sum(lst)"
   ],
   "outputs": [
    {
     "output_type": "execute_result",
     "data": {
      "text/plain": [
       "6"
      ]
     },
     "metadata": {},
     "execution_count": 6
    }
   ],
   "metadata": {}
  },
  {
   "cell_type": "markdown",
   "source": [
    "---\r\n",
    "# 2021-8-30-[528.按权重随机选择](https://leetcode-cn.com/problems/random-pick-with-weight/description/)\r\n",
    "\r\n",
    "|  Category  |   Difficulty    | Likes | Dislikes |\r\n",
    "| :--------: | :-------------: | :---: | :------: |\r\n",
    "| algorithms | Medium (46.92%) |  116  |    -     |"
   ],
   "metadata": {}
  },
  {
   "cell_type": "code",
   "execution_count": 1,
   "source": [
    "# 测试初始框\r\n",
    "class Solution:\r\n",
    "\r\n",
    "    def __init__(self, w):\r\n",
    "        return\r\n",
    "\r\n",
    "    def pickIndex(self) -> int:\r\n",
    "        return\r\n",
    "\r\n",
    "solution  = Solution([1])\r\n",
    "solution.pickIndex()\r\n"
   ],
   "outputs": [],
   "metadata": {}
  },
  {
   "cell_type": "code",
   "execution_count": null,
   "source": [
    "# 测试用例\r\n",
    "\r\n",
    "# 示例 2\r\n",
    "solution  = Solution([1, 3])\r\n",
    "solution.pickIndex()\r\n",
    "solution.pickIndex()\r\n",
    "solution.pickIndex()\r\n",
    "solution.pickIndex()\r\n",
    "solution.pickIndex()\r\n"
   ],
   "outputs": [],
   "metadata": {}
  },
  {
   "cell_type": "code",
   "execution_count": 13,
   "source": [
    "# 暴力解法\r\n",
    "# from random import random\r\n",
    "# class Solution:\r\n",
    "\r\n",
    "#     def __init__(self, w):\r\n",
    "#         self.w = w\r\n",
    "\r\n",
    "#     def pickIndex(self) -> int:\r\n",
    "#         w = self.w\r\n",
    "#         rand = random()\r\n",
    "#         gross = sum(w)\r\n",
    "#         subSum = 0\r\n",
    "#         if len(w) != 1:\r\n",
    "#             for i in range(len(w)-1):\r\n",
    "#                 if w[i+1]/gross + subSum > rand:\r\n",
    "#                     return i\r\n",
    "#                 else:\r\n",
    "#                     subSum += w[i]/gross\r\n",
    "#         else:\r\n",
    "#             return 0\r\n",
    "# 浮点运算用得太多了(\r\n",
    "\r\n",
    "solution  = Solution([1])\r\n",
    "print(solution.pickIndex())\r\n"
   ],
   "outputs": [
    {
     "output_type": "stream",
     "name": "stdout",
     "text": [
      "0\n"
     ]
    }
   ],
   "metadata": {}
  },
  {
   "cell_type": "code",
   "execution_count": 5,
   "source": [
    "from random import random\r\n",
    "random()"
   ],
   "outputs": [
    {
     "output_type": "execute_result",
     "data": {
      "text/plain": [
       "0.07442545428267267"
      ]
     },
     "metadata": {},
     "execution_count": 5
    }
   ],
   "metadata": {}
  },
  {
   "cell_type": "code",
   "execution_count": 19,
   "source": [
    "from itertools import accumulate\r\n",
    "w = [1, 2, 3, 4, 5]\r\n",
    "pre = list(accumulate(w))\r\n",
    "pre"
   ],
   "outputs": [
    {
     "output_type": "stream",
     "name": "stdout",
     "text": [
      "<itertools.accumulate object at 0x0000026AA5F63700>\n"
     ]
    },
    {
     "output_type": "execute_result",
     "data": {
      "text/plain": [
       "[1, 3, 6, 10, 15]"
      ]
     },
     "metadata": {},
     "execution_count": 19
    }
   ],
   "metadata": {}
  },
  {
   "cell_type": "code",
   "execution_count": 21,
   "source": [
    "from itertools import accumulate\r\n",
    "from bisect import bisect_left\r\n",
    "from random import randint\r\n",
    "class Solution:\r\n",
    "\r\n",
    "    def __init__(self, w):\r\n",
    "        self.pre = list(accumulate(w))\r\n",
    "        self.total = sum(w)\r\n",
    "\r\n",
    "    def pickIndex(self) -> int:\r\n",
    "        x = randint(1, self.total)\r\n",
    "        return bisect_left(self.pre, x)\r\n",
    "\r\n",
    "solution  = Solution([1])\r\n",
    "solution.pickIndex()"
   ],
   "outputs": [
    {
     "output_type": "execute_result",
     "data": {
      "text/plain": [
       "0"
      ]
     },
     "metadata": {},
     "execution_count": 21
    }
   ],
   "metadata": {}
  },
  {
   "cell_type": "markdown",
   "source": [
    "---\r\n",
    "# 2021-8-31-[1109.航班预订统计](https://leetcode-cn.com/problems/corporate-flight-bookings/description/)\r\n"
   ],
   "metadata": {}
  },
  {
   "cell_type": "code",
   "execution_count": null,
   "source": [
    "# 测试代码框架\r\n",
    "class Solution:\r\n",
    "    def corpFlightBookings(self, bookings, n: int):\r\n",
    "        return\r\n",
    "\r\n",
    "solution  = Solution()\r\n",
    "bookings = [[1,2,10],[2,3,20],[2,5,25]]\r\n",
    "n = 5\r\n",
    "solution.corpFlightBookings(bookings, n)"
   ],
   "outputs": [],
   "metadata": {}
  },
  {
   "cell_type": "code",
   "execution_count": 1,
   "source": [
    "# 测试数据集\r\n",
    "\r\n",
    "# 示例 1\r\n",
    "bookings = [[1,2,10],[2,3,20],[2,5,25]]\r\n",
    "n = 5\r\n",
    "#输出：[10,55,45,25,25]\r\n",
    "\r\n",
    "# 示例 2\r\n",
    "bookings = [[1,2,10],[2,2,15]]\r\n",
    "n = 2\r\n",
    "#输出：[10,25]\r\n",
    "\r\n"
   ],
   "outputs": [],
   "metadata": {}
  },
  {
   "cell_type": "code",
   "execution_count": 5,
   "source": [
    "# 超时了\r\n",
    "class Solution:\r\n",
    "    def corpFlightBookings(self, bookings, n: int):\r\n",
    "        ans = [0] * n\r\n",
    "        for i, j, seats in bookings:\r\n",
    "            for k in range(i, j+1):\r\n",
    "                ans[k-1] += seats\r\n",
    "        return ans\r\n",
    "\r\n",
    "\r\n",
    "solution  = Solution()\r\n",
    "bookings = [[1,2,10],[2,3,20],[2,5,25]]\r\n",
    "n = 5\r\n",
    "solution.corpFlightBookings(bookings, n)"
   ],
   "outputs": [
    {
     "output_type": "execute_result",
     "data": {
      "text/plain": [
       "[10, 55, 45, 25, 25]"
      ]
     },
     "metadata": {},
     "execution_count": 5
    }
   ],
   "metadata": {}
  },
  {
   "cell_type": "code",
   "execution_count": 10,
   "source": [
    "# 差分数组\r\n",
    "class Solution:\r\n",
    "    def corpFlightBookings(self, bookings, n: int):\r\n",
    "        ans = [0] * n\r\n",
    "        for i, j, seats in bookings:\r\n",
    "            ans[i-1] += seats\r\n",
    "            if j < n:\r\n",
    "                ans[j] -= seats \r\n",
    "        for i in range(1, n):\r\n",
    "            ans[i] += ans[i-1]\r\n",
    "        return ans\r\n",
    "\r\n",
    "\r\n",
    "solution  = Solution()\r\n",
    "bookings = [[1,2,10],[2,3,20],[2,5,25]]\r\n",
    "n = 5\r\n",
    "solution.corpFlightBookings(bookings, n)"
   ],
   "outputs": [
    {
     "output_type": "execute_result",
     "data": {
      "text/plain": [
       "[10, 55, 45, 25, 25]"
      ]
     },
     "metadata": {},
     "execution_count": 10
    }
   ],
   "metadata": {}
  },
  {
   "cell_type": "code",
   "execution_count": 11,
   "source": [
    "# 库函数求累加和\r\n",
    "from itertools import accumulate\r\n",
    "\r\n",
    "class Solution:\r\n",
    "    def corpFlightBookings(self, bookings, n: int):\r\n",
    "        ans = [0] * n\r\n",
    "        for i, j, seats in bookings:\r\n",
    "            ans[i-1] += seats\r\n",
    "            if j < n:\r\n",
    "                ans[j] -= seats \r\n",
    "        ans = list(accumulate(ans))\r\n",
    "        return ans\r\n",
    "\r\n",
    "\r\n",
    "solution  = Solution()\r\n",
    "bookings = [[1,2,10],[2,3,20],[2,5,25]]\r\n",
    "n = 5\r\n",
    "solution.corpFlightBookings(bookings, n)"
   ],
   "outputs": [
    {
     "output_type": "execute_result",
     "data": {
      "text/plain": [
       "[10, 55, 45, 25, 25]"
      ]
     },
     "metadata": {},
     "execution_count": 11
    }
   ],
   "metadata": {}
  },
  {
   "cell_type": "markdown",
   "source": [
    "---\r\n",
    "## [704.二分查找](https://leetcode-cn.com/problems/binary-search/description/)\r\n",
    "\r\n",
    "|  Category  |  Difficulty   | Likes | Dislikes |\r\n",
    "| :--------: | :-----------: | :---: | :------: |\r\n",
    "| algorithms | Easy (55.49%) |  336  |    -     |"
   ],
   "metadata": {}
  },
  {
   "cell_type": "code",
   "execution_count": null,
   "source": [
    "# 测试框架\r\n",
    "from typing import List\r\n",
    "class Solution:\r\n",
    "    def search(self, nums: List[int], target: int) -> int:\r\n",
    "        return\r\n",
    "\r\n",
    "solution  = Solution()\r\n",
    "nums = [-1,0,3,5,9,12]\r\n",
    "target = 9\r\n",
    "print(solution.search(nums, target))"
   ],
   "outputs": [],
   "metadata": {}
  },
  {
   "cell_type": "code",
   "execution_count": null,
   "source": [
    "# 示例 1\r\n",
    "nums = [-1,0,3,5,9,12]\r\n",
    "target = 9\r\n",
    "# 输出: 4\r\n",
    "# 解释: 9 出现在 nums 中并且下标为 4\r\n",
    "\r\n",
    "# 示例 2\r\n",
    "nums = [-1,0,3,5,9,12]\r\n",
    "target = 2\r\n",
    "# 输出: -1\r\n",
    "# 解释: 2 不存在 nums 中因此返回 -1"
   ],
   "outputs": [],
   "metadata": {}
  },
  {
   "cell_type": "code",
   "execution_count": 27,
   "source": [
    "from typing import List\r\n",
    "class Solution:\r\n",
    "    def search(self, nums: List[int], target: int) -> int:\r\n",
    "        if nums[0] > target or nums[-1] < target:\r\n",
    "            return -1\r\n",
    "        if nums[0] == target:\r\n",
    "            return 0\r\n",
    "\r\n",
    "        left, right = 0, len(nums) - 1\r\n",
    "        ans = right\r\n",
    "        while nums[ans] != target and left < right - 1:\r\n",
    "            print(\"当前值为{0}\".format(nums[ans]))\r\n",
    "            if nums[ans] > target:\r\n",
    "                print(\"{0} > {1}\".format(nums[ans], target))\r\n",
    "                right = ans\r\n",
    "                ans = (left + right) // 2\r\n",
    "                print(left, right)\r\n",
    "            else:\r\n",
    "                print(\"{0} < {1}\".format(nums[ans], target))\r\n",
    "                left = ans\r\n",
    "                ans = (left + right) // 2\r\n",
    "                print(left, right)\r\n",
    "        return ans if nums[ans] == target else -1\r\n",
    "\r\n",
    "solution  = Solution()\r\n",
    "nums = [-1,0,3,5,9,12]\r\n",
    "target = 2\r\n",
    "print(solution.search(nums, target))"
   ],
   "outputs": [
    {
     "output_type": "stream",
     "name": "stdout",
     "text": [
      "当前值为12\n",
      "12 > 2\n",
      "0 5\n",
      "当前值为3\n",
      "3 > 2\n",
      "0 2\n",
      "当前值为0\n",
      "0 < 2\n",
      "1 2\n",
      "-1\n"
     ]
    }
   ],
   "metadata": {}
  },
  {
   "cell_type": "code",
   "execution_count": null,
   "source": [
    "# 删去输出语句\r\n",
    "from typing import List\r\n",
    "class Solution:\r\n",
    "    def search(self, nums: List[int], target: int) -> int:\r\n",
    "        if nums[0] > target or nums[-1] < target:\r\n",
    "            return -1\r\n",
    "        if nums[0] == target:\r\n",
    "            return 0\r\n",
    "\r\n",
    "        left, right = 0, len(nums) - 1\r\n",
    "        ans = right\r\n",
    "        while nums[ans] != target and left < right - 1:\r\n",
    "            if nums[ans] > target:\r\n",
    "                right = ans\r\n",
    "                ans = (left + right) // 2\r\n",
    "            else:\r\n",
    "                left = ans\r\n",
    "                ans = (left + right) // 2\r\n",
    "        return ans if nums[ans] == target else -1"
   ],
   "outputs": [],
   "metadata": {}
  },
  {
   "cell_type": "markdown",
   "source": [
    "Accepted  \r\n",
    "46/46 cases passed (32 ms)  \r\n",
    "Your runtime beats 94.75 % of python3 submissions  \r\n",
    "Your memory usage beats 5.06 % of python3 submissions (16.1 MB)"
   ],
   "metadata": {}
  },
  {
   "cell_type": "code",
   "execution_count": null,
   "source": [
    "# 官方写法\r\n",
    "class Solution:\r\n",
    "    def search(self, nums: List[int], target: int) -> int:\r\n",
    "        left, right = 0, len(nums) - 1\r\n",
    "        while left <= right:\r\n",
    "            pivot = left + (right - left) // 2\r\n",
    "            if nums[pivot] == target:\r\n",
    "                return pivot\r\n",
    "            if target < nums[pivot]:\r\n",
    "                right = pivot - 1\r\n",
    "            else:\r\n",
    "                left = pivot + 1\r\n",
    "        return -1\r\n",
    "\r\n",
    "# 作者：LeetCode\r\n",
    "# 链接：https://leetcode-cn.com/problems/binary-search/solution/er-fen-cha-zhao-by-leetcode/\r\n",
    "# 来源：力扣（LeetCode）\r\n",
    "# 著作权归作者所有。商业转载请联系作者获得授权，非商业转载请注明出处。"
   ],
   "outputs": [],
   "metadata": {}
  },
  {
   "cell_type": "markdown",
   "source": [
    "Accepted   \r\n",
    "46/46 cases passed (36 ms)  \r\n",
    "Your runtime beats 83.59 % of python3 submissions  \r\n",
    "Your memory usage beats 60.25 % of python3 submissions (15.8 MB)   "
   ],
   "metadata": {}
  },
  {
   "cell_type": "markdown",
   "source": [
    "----\r\n",
    "# 2021-9-1-[165.比较版本号](https://leetcode-cn.com/problems/compare-version-numbers/description/)"
   ],
   "metadata": {}
  },
  {
   "cell_type": "code",
   "execution_count": 28,
   "source": [
    "# 测试代码\r\n",
    "class Solution:\r\n",
    "    def compareVersion(self, version1: str, version2: str) -> int:\r\n",
    "        return\r\n",
    "\r\n",
    "solution  = Solution()\r\n",
    "version1 = \"1.01\"\r\n",
    "version2 = \"1.001\"\r\n",
    "solution.compareVersion(version1, version2)"
   ],
   "outputs": [],
   "metadata": {}
  },
  {
   "cell_type": "code",
   "execution_count": null,
   "source": [
    "# 测试用例\r\n",
    "\r\n",
    "# 示例 1\r\n",
    "version1 = \"1.01\"\r\n",
    "version2 = \"1.001\"\r\n",
    "# 输出：0\r\n",
    "# 解释：忽略前导零，\"01\" 和 \"001\" 都表示相同的整数 \"1\"\r\n",
    "\r\n",
    "# 示例 2\r\n",
    "version1 = \"1.0\"\r\n",
    "version2 = \"1.0.0\"\r\n",
    "# 输出：0\r\n",
    "# 解释：version1 没有指定下标为 2 的修订号，即视为 \"0\"\r\n",
    "\r\n",
    "# 示例 3\r\n",
    "version1 = \"0.1\"\r\n",
    "version2 = \"1.1\"\r\n",
    "# 输出：-1\r\n",
    "# 解释：version1 中下标为 0 的修订号是 \"0\"，\r\n",
    "#       version2 中下标为 0 的修订号是 \"1\" 。0 < 1，\r\n",
    "#       所以 version1 < version2\r\n",
    "\r\n",
    "# 示例 4\r\n",
    "version1 = \"1.0.1\"\r\n",
    "version2 = \"1\"\r\n",
    "# 输出：1\r\n",
    "\r\n",
    "# 示例 5\r\n",
    "version1 = \"7.5.2.4\"\r\n",
    "version2 = \"7.5.3\"\r\n",
    "# 输出：-1"
   ],
   "outputs": [],
   "metadata": {}
  },
  {
   "cell_type": "code",
   "execution_count": 2,
   "source": [
    "# 官方题解(字符串分割)\r\n",
    "from itertools import zip_longest\r\n",
    "class Solution:\r\n",
    "    def compareVersion(self, version1: str, version2: str) -> int:\r\n",
    "        for v1, v2 in zip_longest(version1.split('.'), version2.split('.'), fillvalue=0):\r\n",
    "            x, y = int(v1), int(v2)\r\n",
    "            if x != y:\r\n",
    "                return 1 if x > y else -1\r\n",
    "        return 0\r\n",
    "\r\n",
    "\r\n",
    "solution  = Solution()\r\n",
    "version1 = \"1.0.1\"\r\n",
    "version2 = \"1\"\r\n",
    "solution.compareVersion(version1, version2)"
   ],
   "outputs": [
    {
     "output_type": "execute_result",
     "data": {
      "text/plain": [
       "1"
      ]
     },
     "metadata": {},
     "execution_count": 2
    }
   ],
   "metadata": {}
  },
  {
   "cell_type": "markdown",
   "source": [
    "Accepted  \r\n",
    "81/81 cases passed (24 ms)  \r\n",
    "Your runtime beats 97.69 % of python3 submissions  \r\n",
    "Your memory usage beats 98.3 % of python3 submissions (14.7 MB)"
   ],
   "metadata": {}
  },
  {
   "cell_type": "code",
   "execution_count": 5,
   "source": [
    "# 失败\r\n",
    "class Solution:\r\n",
    "    def compareVersion(self, version1: str, version2: str) -> int:\r\n",
    "        lst1 = version1.split(\".\")\r\n",
    "        lst2 = version2.split(\".\")\r\n",
    "        lenLst2 = len(lst2)\r\n",
    "        lenLst1 = len(lst1)\r\n",
    "        if lenLst1 <= lenLst2:\r\n",
    "            addNum = lenLst2 - lenLst1\r\n",
    "            extendLst = [0] * addNum\r\n",
    "            lst1.extend(extendLst)\r\n",
    "        for i in range(lenLst2):\r\n",
    "            if int(lst1[i]) < int(lst2[i]):\r\n",
    "                return -1\r\n",
    "            elif int(lst1[i]) > int(lst2[i]):\r\n",
    "                return 1\r\n",
    "        return 0\r\n",
    "\r\n",
    "\r\n",
    "solution  = Solution()\r\n",
    "version1 = \"1.0.1\"\r\n",
    "version2 = \"1\"\r\n",
    "solution.compareVersion(version1, version2)"
   ],
   "outputs": [
    {
     "output_type": "execute_result",
     "data": {
      "text/plain": [
       "0"
      ]
     },
     "metadata": {},
     "execution_count": 5
    }
   ],
   "metadata": {}
  },
  {
   "cell_type": "code",
   "execution_count": 31,
   "source": [
    "version1 = \"1.01\"\r\n",
    "version1.split(\".\")\r\n"
   ],
   "outputs": [
    {
     "output_type": "execute_result",
     "data": {
      "text/plain": [
       "['1', '01']"
      ]
     },
     "metadata": {},
     "execution_count": 31
    }
   ],
   "metadata": {}
  },
  {
   "cell_type": "code",
   "execution_count": 39,
   "source": [
    "a = [1, 2]\r\n",
    "b = [3, 4]\r\n",
    "\r\n",
    "a.extend(b)\r\n",
    "a"
   ],
   "outputs": [
    {
     "output_type": "execute_result",
     "data": {
      "text/plain": [
       "[1, 2, 3, 4]"
      ]
     },
     "metadata": {},
     "execution_count": 39
    }
   ],
   "metadata": {}
  },
  {
   "cell_type": "code",
   "execution_count": 48,
   "source": [
    "int('001')"
   ],
   "outputs": [
    {
     "output_type": "execute_result",
     "data": {
      "text/plain": [
       "1"
      ]
     },
     "metadata": {},
     "execution_count": 48
    }
   ],
   "metadata": {}
  },
  {
   "cell_type": "markdown",
   "source": [
    "---\r\n",
    "# 2021-9-2-[剑指 Offer 22. 链表中倒数第k个节点](https://leetcode-cn.com/problems/lian-biao-zhong-dao-shu-di-kge-jie-dian-lcof/)"
   ],
   "metadata": {}
  },
  {
   "cell_type": "code",
   "execution_count": 8,
   "source": [
    "class ListNode():\r\n",
    "    def __init__(self, val):\r\n",
    "        if isinstance(val,int):\r\n",
    "            self.val = val\r\n",
    "            self.next = None\r\n",
    "            \r\n",
    "        elif isinstance(val,list):\r\n",
    "            self.val = val[0]\r\n",
    "            self.next = None\r\n",
    "            cur = self\r\n",
    "            for i in val[1:]:\r\n",
    "                cur.next = ListNode(i)\r\n",
    "                cur = cur.next\r\n",
    "    \r\n",
    "    def gatherAttrs(self):\r\n",
    "        return \", \".join(\"{}: {}\".format(k, getattr(self, k)) for k in self.__dict__.keys())\r\n",
    "\r\n",
    "    def __str__(self):\r\n",
    "            return self.__class__.__name__+\" {\"+\"{}\".format(self.gatherAttrs())+\"}\"\r\n",
    "\r\n",
    "# 作者：娃哈哈店长\r\n",
    "# 链接：https://leetcode-cn.com/circle/article/s3RcOW/\r\n",
    "# 来源：力扣（LeetCode）\r\n",
    "# 著作权归作者所有。商业转载请联系作者获得授权，非商业转载请注明出处。\r\n",
    "\r\n",
    "\r\n",
    "class Solution:\r\n",
    "    def getKthFromEnd(self, head: ListNode, k: int) -> ListNode:\r\n",
    "        node, n = head, 0  \r\n",
    "        while node:\r\n",
    "            node = node.next\r\n",
    "            n += 1\r\n",
    "\r\n",
    "        node = head\r\n",
    "        for _ in range(n-k):\r\n",
    "            node = node.next\r\n",
    "        \r\n",
    "        return node\r\n",
    "\r\n",
    "solution = Solution()\r\n",
    "head = ListNode([1,2,3,4,5])\r\n",
    "k = 2\r\n",
    "ans = solution.getKthFromEnd(head, k)\r\n",
    "ans.gatherAttrs()\r\n"
   ],
   "outputs": [
    {
     "output_type": "execute_result",
     "data": {
      "text/plain": [
       "'val: 4, next: ListNode {val: 5, next: None}'"
      ]
     },
     "metadata": {},
     "execution_count": 8
    }
   ],
   "metadata": {}
  },
  {
   "cell_type": "markdown",
   "source": [
    "---\r\n",
    "#### 2021-9-3-[面试题 17.14. 最小K个数](https://leetcode-cn.com/problems/smallest-k-lcci/)\r\n",
    "\r\n",
    "\r\n",
    "\r\n",
    "设计一个算法，找出数组中最小的k个数。以任意顺序返回这k个数均可。"
   ],
   "metadata": {}
  },
  {
   "cell_type": "code",
   "execution_count": 2,
   "source": [
    "# 测试框架\r\n",
    "from typing import List\r\n",
    "class Solution:\r\n",
    "    def smallestK(self, arr: List[int], k: int) -> List[int]:\r\n",
    "        return\r\n",
    "\r\n",
    "solution = Solution()\r\n",
    "arr =  [1,3,5,7,2,4,6,8]\r\n",
    "k = 4\r\n",
    "solution.smallestK(arr, k)"
   ],
   "outputs": [],
   "metadata": {}
  },
  {
   "cell_type": "code",
   "execution_count": 3,
   "source": [
    "# 排序\r\n",
    "from typing import List\r\n",
    "class Solution:\r\n",
    "    def smallestK(self, arr: List[int], k: int) -> List[int]:\r\n",
    "        arr.sort()\r\n",
    "        return arr[:k]\r\n",
    "\r\n",
    "solution = Solution()\r\n",
    "arr =  [1,3,5,7,2,4,6,8]\r\n",
    "k = 4\r\n",
    "solution.smallestK(arr, k)"
   ],
   "outputs": [
    {
     "output_type": "execute_result",
     "data": {
      "text/plain": [
       "[1, 2, 3, 4]"
      ]
     },
     "metadata": {},
     "execution_count": 3
    }
   ],
   "metadata": {}
  },
  {
   "cell_type": "code",
   "execution_count": 6,
   "source": [
    "# 维护大根堆\r\n",
    "from typing import List\r\n",
    "from heapq import heappop, heappush, heapify\r\n",
    "\r\n",
    "class Solution:\r\n",
    "    def smallestK(self, arr: List[int], k: int) -> List[int]:\r\n",
    "        if k == 0:\r\n",
    "            return list()\r\n",
    "        \r\n",
    "        frontK = [-x for x in arr[:k]]\r\n",
    "        heapify(frontK)\r\n",
    "        for y in arr[k:]:\r\n",
    "            if -frontK[0] > y:\r\n",
    "                heappop(frontK)\r\n",
    "                heappush(frontK, -y)\r\n",
    "        ans = [-x for x in frontK]\r\n",
    "        return ans\r\n",
    "\r\n",
    "solution = Solution()\r\n",
    "arr =  [1,3,5,7,2,4,6,8]\r\n",
    "k = 4\r\n",
    "solution.smallestK(arr, k)"
   ],
   "outputs": [
    {
     "output_type": "execute_result",
     "data": {
      "text/plain": [
       "[4, 3, 1, 2]"
      ]
     },
     "metadata": {},
     "execution_count": 6
    }
   ],
   "metadata": {}
  },
  {
   "cell_type": "code",
   "execution_count": 4,
   "source": [
    "lst = [1, 2, 3]\r\n",
    "lst[1:]"
   ],
   "outputs": [
    {
     "output_type": "execute_result",
     "data": {
      "text/plain": [
       "[2, 3]"
      ]
     },
     "metadata": {},
     "execution_count": 4
    }
   ],
   "metadata": {}
  }
 ],
 "metadata": {
  "orig_nbformat": 4,
  "language_info": {
   "name": "python",
   "version": "3.8.5",
   "mimetype": "text/x-python",
   "codemirror_mode": {
    "name": "ipython",
    "version": 3
   },
   "pygments_lexer": "ipython3",
   "nbconvert_exporter": "python",
   "file_extension": ".py"
  },
  "kernelspec": {
   "name": "python3",
   "display_name": "Python 3.8.5 64-bit ('base': conda)"
  },
  "interpreter": {
   "hash": "be333bfaf4b40d9f2128eb06ccf81a284655b9f6c456fc22510d92c5f9e0d280"
  }
 },
 "nbformat": 4,
 "nbformat_minor": 2
}