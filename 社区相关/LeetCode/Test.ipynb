{
 "cells": [
  {
   "cell_type": "markdown",
   "source": [
    "# 2021-8-23\r\n"
   ],
   "metadata": {}
  },
  {
   "cell_type": "markdown",
   "source": [
    "创建一个指定大小的列表"
   ],
   "metadata": {}
  },
  {
   "cell_type": "code",
   "execution_count": 1,
   "source": [
    "lst = [None]*8\r\n",
    "lst"
   ],
   "outputs": [
    {
     "output_type": "execute_result",
     "data": {
      "text/plain": [
       "[None, None, None, None, None, None, None, None]"
      ]
     },
     "metadata": {},
     "execution_count": 1
    }
   ],
   "metadata": {}
  },
  {
   "cell_type": "markdown",
   "source": [
    "获取列表末尾元素"
   ],
   "metadata": {}
  },
  {
   "cell_type": "code",
   "execution_count": 6,
   "source": [
    "lst = [0, 1, 2, 3, 4, 5, 6]\r\n",
    "max(lst[-1], lst[-2]  )"
   ],
   "outputs": [
    {
     "output_type": "execute_result",
     "data": {
      "text/plain": [
       "6"
      ]
     },
     "metadata": {},
     "execution_count": 6
    }
   ],
   "metadata": {}
  },
  {
   "cell_type": "markdown",
   "source": [
    "测试实例"
   ],
   "metadata": {}
  },
  {
   "cell_type": "code",
   "execution_count": 1,
   "source": [
    "def getMaximumGenerated( n: int) -> int:\r\n",
    "    nums = [0]*(n+1)\r\n",
    "    nums[1] = 1\r\n",
    "    i = 2\r\n",
    "    while i < n+1:\r\n",
    "        if i%2 == 0:\r\n",
    "            nums[i] = nums[i//2]\r\n",
    "        else:\r\n",
    "            nums[i] = nums[i//2] + nums[i//2 + 1]\r\n",
    "        i += 1\r\n",
    "    print(nums)\r\n",
    "    return max(nums[-1], nums[-2], nums[-3])\r\n",
    "\r\n",
    "getMaximumGenerated(5)\r\n"
   ],
   "outputs": [
    {
     "output_type": "stream",
     "name": "stdout",
     "text": [
      "[0, 1, 1, 2, 1, 3]\n"
     ]
    },
    {
     "output_type": "execute_result",
     "data": {
      "text/plain": [
       "3"
      ]
     },
     "metadata": {},
     "execution_count": 1
    }
   ],
   "metadata": {}
  },
  {
   "cell_type": "code",
   "execution_count": 3,
   "source": [
    "# 三目运算符\r\n",
    "max_n = 2 if 2>1 else 1\r\n",
    "max_n"
   ],
   "outputs": [
    {
     "output_type": "execute_result",
     "data": {
      "text/plain": [
       "2"
      ]
     },
     "metadata": {},
     "execution_count": 3
    }
   ],
   "metadata": {}
  },
  {
   "cell_type": "markdown",
   "source": [
    "转变成了一个求函数最大值的问题  \r\n",
    "最大值应该出现在倒数第1或第二个奇数索引处  \r\n",
    "貌似随着数组大小增大"
   ],
   "metadata": {}
  },
  {
   "cell_type": "markdown",
   "source": [
    "# 2021-8-24\r\n"
   ],
   "metadata": {}
  },
  {
   "cell_type": "code",
   "execution_count": 6,
   "source": [
    "n = 6\r\n",
    "k = 2\r\n",
    "f = [[float(\"inf\")] * n for _ in range(k + 2)]\r\n",
    "f"
   ],
   "outputs": [
    {
     "output_type": "execute_result",
     "data": {
      "text/plain": [
       "[[inf, inf, inf, inf, inf, inf],\n",
       " [inf, inf, inf, inf, inf, inf],\n",
       " [inf, inf, inf, inf, inf, inf],\n",
       " [inf, inf, inf, inf, inf, inf]]"
      ]
     },
     "metadata": {},
     "execution_count": 6
    }
   ],
   "metadata": {}
  },
  {
   "cell_type": "code",
   "execution_count": 10,
   "source": [
    "def findCheapestPrice(n, flights, src, dst, k: int) -> int:\r\n",
    "    f = [[float(\"inf\")] * n for _ in range(k + 2)]\r\n",
    "    f[0][src] = 0\r\n",
    "    for t in range(1, k + 2):\r\n",
    "        for j, i, cost in flights:\r\n",
    "            f[t][i] = min(f[t][i], f[t - 1][j] + cost)\r\n",
    "            print(f)\r\n",
    "    \r\n",
    "    ans = min(f[t][dst] for t in range(1, k + 2))\r\n",
    "    print(f)\r\n",
    "    return -1 if ans == float(\"inf\") else ans\r\n",
    "n = 3\r\n",
    "flights = [[0,1,100],[1,2,100],[0,2,500]]\r\n",
    "src = 0\r\n",
    "dst = 2\r\n",
    "k = 1\r\n",
    "findCheapestPrice(n, flights, src, dst, k)"
   ],
   "outputs": [
    {
     "output_type": "stream",
     "name": "stdout",
     "text": [
      "[[0, inf, inf], [inf, 100, inf], [inf, inf, inf]]\n",
      "[[0, inf, inf], [inf, 100, inf], [inf, inf, inf]]\n",
      "[[0, inf, inf], [inf, 100, 500], [inf, inf, inf]]\n",
      "[[0, inf, inf], [inf, 100, 500], [inf, inf, inf]]\n",
      "[[0, inf, inf], [inf, 100, 500], [inf, inf, 200]]\n",
      "[[0, inf, inf], [inf, 100, 500], [inf, inf, 200]]\n",
      "[[0, inf, inf], [inf, 100, 500], [inf, inf, 200]]\n"
     ]
    },
    {
     "output_type": "execute_result",
     "data": {
      "text/plain": [
       "200"
      ]
     },
     "metadata": {},
     "execution_count": 10
    }
   ],
   "metadata": {}
  },
  {
   "cell_type": "code",
   "execution_count": 13,
   "source": [
    "def findCheapestPrice(n, flights, src, dst, k: int) -> int:\r\n",
    "    f = [float(\"inf\")] * n\r\n",
    "    f[src] = 0\r\n",
    "    ans = float(\"inf\")\r\n",
    "    for t in range(1, k + 2):\r\n",
    "        g = [float(\"inf\")] * n\r\n",
    "        for j, i, cost in flights:\r\n",
    "            g[i] = min(g[i], f[j] + cost)\r\n",
    "        f = g\r\n",
    "        print(f)\r\n",
    "        ans = min(ans, f[dst])\r\n",
    "    \r\n",
    "    print(f)\r\n",
    "    return -1 if ans == float(\"inf\") else ans\r\n",
    "\r\n",
    "n = 3\r\n",
    "flights = [[0,1,100],[1,2,100],[0,2,500]]\r\n",
    "src = 0\r\n",
    "dst = 2\r\n",
    "k = 1\r\n",
    "findCheapestPrice(n, flights, src, dst, k)"
   ],
   "outputs": [
    {
     "output_type": "stream",
     "name": "stdout",
     "text": [
      "[inf, 100, 500]\n",
      "[inf, inf, 200]\n",
      "[inf, inf, 200]\n"
     ]
    },
    {
     "output_type": "execute_result",
     "data": {
      "text/plain": [
       "200"
      ]
     },
     "metadata": {},
     "execution_count": 13
    }
   ],
   "metadata": {}
  },
  {
   "cell_type": "markdown",
   "source": [
    "-----\r\n",
    "# 2021-8-25\r\n",
    "- T797. 所有可能的路径\r\n",
    "\r\n",
    "    "
   ],
   "metadata": {}
  },
  {
   "cell_type": "code",
   "execution_count": 32,
   "source": [
    "# 尝试深度优先搜索\r\n",
    "def allPathsSourceTarget(graph):\r\n",
    "    ans = list()\r\n",
    "    stk = list()\r\n",
    "\r\n",
    "    def dfs(x: int):\r\n",
    "        if x == len(graph) - 1:\r\n",
    "            print(stk)\r\n",
    "            ans.append(stk)\r\n",
    "            return\r\n",
    "        \r\n",
    "        for y in graph[x]:\r\n",
    "            stk.append(y)\r\n",
    "            dfs(y)\r\n",
    "            stk.pop()\r\n",
    "    \r\n",
    "    stk.append(0)\r\n",
    "    dfs(0)\r\n",
    "    return ans\r\n",
    "\r\n",
    "\r\n",
    "            \r\n",
    "\r\n",
    "graph = [[1,2],[3],[3],[]]\r\n",
    "allPathsSourceTarget(graph)"
   ],
   "outputs": [
    {
     "output_type": "stream",
     "name": "stdout",
     "text": [
      "[0, 1, 3]\n",
      "[0, 2, 3]\n"
     ]
    },
    {
     "output_type": "execute_result",
     "data": {
      "text/plain": [
       "[[0], [0]]"
      ]
     },
     "metadata": {},
     "execution_count": 32
    }
   ],
   "metadata": {}
  },
  {
   "cell_type": "code",
   "execution_count": 17,
   "source": [
    "lst = [1, 2, 3]\r\n",
    "lst[::-1]\r\n",
    "\r\n",
    "len(lst)\r\n",
    "\r\n",
    "# for t in range(len(lst) -1, -1, -1):\r\n",
    "#     print(t)\r\n",
    "\r\n",
    "lst[-1]\r\n",
    "\r\n",
    "lst[:]\r\n",
    "lst\r\n",
    "# lst.pop()\r\n",
    "lst.append(lst[:])\r\n",
    "lst"
   ],
   "outputs": [
    {
     "output_type": "execute_result",
     "data": {
      "text/plain": [
       "[1, 2, 3, [1, 2, 3]]"
      ]
     },
     "metadata": {},
     "execution_count": 17
    }
   ],
   "metadata": {}
  },
  {
   "cell_type": "code",
   "execution_count": 23,
   "source": [
    "lst1 = [[0, 1]]\r\n",
    "lst2 = [2, 3, 4]\r\n",
    "lst1.append(lst2[:])\r\n",
    "lst1"
   ],
   "outputs": [
    {
     "output_type": "execute_result",
     "data": {
      "text/plain": [
       "[[0, 1], [2, 3, 4]]"
      ]
     },
     "metadata": {},
     "execution_count": 23
    }
   ],
   "metadata": {}
  },
  {
   "cell_type": "markdown",
   "source": [
    "---\r\n",
    "# 2021-8-26\r\n",
    "\r\n",
    "# [T881-救生艇](https://leetcode-cn.com/problems/boats-to-save-people/description/)"
   ],
   "metadata": {}
  },
  {
   "cell_type": "code",
   "execution_count": 15,
   "source": [
    "# 尽可能多的让更多人坐两艘船\r\n",
    "def numRescueBoats(people, limit: int) -> int:\r\n",
    "    people.sort()\r\n",
    "    ans = 0\r\n",
    "    front = 0\r\n",
    "    back = len(people) - 1\r\n",
    "\r\n",
    "    while front <= back:\r\n",
    "        if people[front] + people[back] <= limit:\r\n",
    "            ans += 1\r\n",
    "            front += 1\r\n",
    "            back -= 1\r\n",
    "        else:\r\n",
    "            ans += 1\r\n",
    "            back -= 1\r\n",
    "\r\n",
    "    return ans\r\n",
    "\r\n",
    "people = [3,5,3,4]\r\n",
    "limit = 5\r\n",
    "numRescueBoats(people, limit)\r\n"
   ],
   "outputs": [
    {
     "output_type": "execute_result",
     "data": {
      "text/plain": [
       "4"
      ]
     },
     "metadata": {},
     "execution_count": 15
    }
   ],
   "metadata": {}
  }
 ],
 "metadata": {
  "orig_nbformat": 4,
  "language_info": {
   "name": "python",
   "version": "3.8.5",
   "mimetype": "text/x-python",
   "codemirror_mode": {
    "name": "ipython",
    "version": 3
   },
   "pygments_lexer": "ipython3",
   "nbconvert_exporter": "python",
   "file_extension": ".py"
  },
  "kernelspec": {
   "name": "python3",
   "display_name": "Python 3.8.5 64-bit ('base': conda)"
  },
  "interpreter": {
   "hash": "be333bfaf4b40d9f2128eb06ccf81a284655b9f6c456fc22510d92c5f9e0d280"
  }
 },
 "nbformat": 4,
 "nbformat_minor": 2
}