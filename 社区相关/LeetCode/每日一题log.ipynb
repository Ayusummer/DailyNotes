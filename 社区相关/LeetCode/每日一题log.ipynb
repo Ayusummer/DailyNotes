{
 "cells": [
  {
   "cell_type": "markdown",
   "source": [
    "# 2021-8-23\r\n",
    "T1646.获取生成数组中的最大值\r\n",
    "\r\n",
    "# [获取生成数组中的最大值](https://leetcode-cn.com/problems/get-maximum-in-generated-array/description/)\r\n",
    "\r\n",
    "|  Category  |  Difficulty   | Likes | Dislikes |\r\n",
    "| :--------: | :-----------: | :---: | :------: |\r\n",
    "| algorithms | Easy (50.69%) |  21   |    -     |\r\n",
    "\r\n",
    "\r\n",
    "给你一个整数 `n` 。按下述规则生成一个长度为 `n + 1` 的数组 `nums` ：\r\n",
    "\r\n",
    "- `nums[0] = 0`\r\n",
    "- `nums[1] = 1`\r\n",
    "- 当 `2 <= 2 * i <= n` 时，`nums[2 * i] = nums[i]`\r\n",
    "- 当 `2 <= 2 * i + 1 <= n` 时，`nums[2 * i + 1] = nums[i] + nums[i + 1]`\r\n",
    "\r\n",
    "返回生成数组 `nums` 中的 **最大** 值。\r\n",
    "\r\n",
    " \r\n",
    "\r\n",
    "**示例 1：**\r\n",
    "\r\n",
    "```\r\n",
    "输入：n = 7\r\n",
    "输出：3\r\n",
    "解释：根据规则：\r\n",
    "  nums[0] = 0\r\n",
    "  nums[1] = 1\r\n",
    "  nums[(1 * 2) = 2] = nums[1] = 1\r\n",
    "  nums[(1 * 2) + 1 = 3] = nums[1] + nums[2] = 1 + 1 = 2\r\n",
    "  nums[(2 * 2) = 4] = nums[2] = 1\r\n",
    "  nums[(2 * 2) + 1 = 5] = nums[2] + nums[3] = 1 + 2 = 3\r\n",
    "  nums[(3 * 2) = 6] = nums[3] = 2\r\n",
    "  nums[(3 * 2) + 1 = 7] = nums[3] + nums[4] = 2 + 1 = 3\r\n",
    "因此，nums = [0,1,1,2,1,3,2,3]，最大值 3\r\n",
    "```\r\n",
    "\r\n",
    "**示例 2：**\r\n",
    "\r\n",
    "```\r\n",
    "输入：n = 2\r\n",
    "输出：1\r\n",
    "解释：根据规则，nums[0]、nums[1] 和 nums[2] 之中的最大值是 1\r\n",
    "```\r\n",
    "\r\n",
    "**示例 3：**\r\n",
    "\r\n",
    "```\r\n",
    "输入：n = 3\r\n",
    "输出：2\r\n",
    "解释：根据规则，nums[0]、nums[1]、nums[2] 和 nums[3] 之中的最大值是 2\r\n",
    "```\r\n",
    "\r\n",
    " \r\n",
    "\r\n",
    "**提示：**\r\n",
    "\r\n",
    "- `0 <= n <= 100`"
   ],
   "metadata": {}
  },
  {
   "cell_type": "code",
   "execution_count": 1,
   "source": [
    "# 个人解答\r\n",
    "class Solution:\r\n",
    "    def getMaximumGenerated(self, n: int) -> int:\r\n",
    "        if n == 0:\r\n",
    "            return 0\r\n",
    "        nums = [0]*(n+1)\r\n",
    "        nums[1] = 1\r\n",
    "        i = 2\r\n",
    "        while i < n+1:\r\n",
    "            if i%2 == 0:\r\n",
    "                nums[i] = nums[i//2]\r\n",
    "            else:\r\n",
    "                nums[i] = nums[i//2] + nums[i//2 + 1]\r\n",
    "            i += 1\r\n",
    "        return max(nums)"
   ],
   "outputs": [],
   "metadata": {}
  },
  {
   "cell_type": "markdown",
   "source": [
    "Accepted    \r\n",
    "101/101 cases passed (32 ms)    \r\n",
    "Your runtime beats 74.22 % of python3 submissions    \r\n",
    "Your memory usage beats 51.84 % of python3 submissions (14.9 MB)    "
   ],
   "metadata": {}
  },
  {
   "cell_type": "code",
   "execution_count": null,
   "source": [
    "# 官方解答\r\n",
    "class Solution:\r\n",
    "    def getMaximumGenerated(self, n: int) -> int:\r\n",
    "        if n == 0:\r\n",
    "            return 0\r\n",
    "        nums = [0]*(n+1)\r\n",
    "        nums[1] = 1\r\n",
    "        for i in range(2, n+1):\r\n",
    "            nums[i] = nums[i//2] + i % 2 * nums[i//2 + 1]\r\n",
    "        return max(nums)"
   ],
   "outputs": [],
   "metadata": {}
  },
  {
   "cell_type": "markdown",
   "source": [
    "Accepted   \r\n",
    "101/101 cases passed (36 ms)  \r\n",
    "Your runtime beats 51.84 % of python3 submissions  \r\n",
    "Your memory usage beats 60.91 % of python3 submissions (14.9 MB)  "
   ],
   "metadata": {}
  },
  {
   "cell_type": "markdown",
   "source": [
    "看样子基本语句还是要比调用库函数要快些\r\n",
    "\r\n",
    "然后就是最大值是否可以使用 max(nums) 之外的方式得出\r\n",
    "\r\n",
    "如果在生成序列时就将最大值确定下来的话会不会更快些 √  \r\n",
    "  确实可以快不少\r\n"
   ],
   "metadata": {}
  },
  {
   "cell_type": "code",
   "execution_count": 2,
   "source": [
    "# 使用基本循环及判断语句并在生成列表的过程中确定最大值\r\n",
    "class Solution:\r\n",
    "    def getMaximumGenerated(self, n: int) -> int:\r\n",
    "        if n == 0:\r\n",
    "            return 0\r\n",
    "        nums = [0]*(n+1)\r\n",
    "        nums[1] = 1\r\n",
    "        i = 2\r\n",
    "        max_n = 1\r\n",
    "        while i < n+1:\r\n",
    "            if i%2 == 0:\r\n",
    "                nums[i] = nums[i//2]\r\n",
    "            else:\r\n",
    "                nums[i] = nums[i//2] + nums[i//2 + 1]\r\n",
    "            max_n = nums[i] if nums[i] > max_n else max_n\r\n",
    "            i += 1\r\n",
    "        return max_n"
   ],
   "outputs": [],
   "metadata": {}
  },
  {
   "cell_type": "markdown",
   "source": [
    "Accepted  \r\n",
    "101/101 cases passed (28 ms)  \r\n",
    "Your runtime beats 89.52 % of python3 submissions  \r\n",
    "Your memory usage beats 68.27 % of python3 submissions (14.9 MB)  "
   ],
   "metadata": {}
  },
  {
   "cell_type": "markdown",
   "source": [
    "然后就是看看用时最短的解法\r\n",
    "->  \r\n",
    "不是很懂执行逻辑, 看了下用时最短的示例和上面第一版差不多, 实际执行起来的效率也差不多, 并没有示例图上显示的那么快\r\n",
    "\r\n",
    "----"
   ],
   "metadata": {}
  },
  {
   "cell_type": "markdown",
   "source": [
    "# 2021-8-24"
   ],
   "metadata": {}
  },
  {
   "cell_type": "markdown",
   "source": [
    "# [K 站中转内最便宜的航班](https://leetcode-cn.com/problems/cheapest-flights-within-k-stops/description/)\r\n",
    "\r\n",
    "|  Category  |   Difficulty    | Likes | Dislikes |\r\n",
    "| :--------: | :-------------: | :---: | :------: |\r\n",
    "| algorithms | Medium (35.30%) |  347  |    -     |\r\n",
    "\r\n",
    "\r\n",
    "有 `n` 个城市通过一些航班连接。给你一个数组 `flights` ，其中 `flights[i] = [fromi, toi, pricei]` ，表示该航班都从城市 `fromi` 开始，以价格 `pricei` 抵达 `toi`。\r\n",
    "\r\n",
    "现在给定所有的城市和航班，以及出发城市 `src` 和目的地 `dst`，你的任务是找到出一条最多经过 `k` 站中转的路线，使得从 `src` 到 `dst` 的 **价格最便宜** ，并返回该价格。 如果不存在这样的路线，则输出 `-1`。\r\n",
    "\r\n",
    " \r\n",
    "\r\n",
    "**示例 1：**\r\n",
    "\r\n",
    "```\r\n",
    "输入: \r\n",
    "n = 3, edges = [[0,1,100],[1,2,100],[0,2,500]]\r\n",
    "src = 0, dst = 2, k = 1\r\n",
    "输出: 200\r\n",
    "解释: \r\n",
    "城市航班图如下\r\n",
    "\r\n",
    "\r\n",
    "从城市 0 到城市 2 在 1 站中转以内的最便宜价格是 200，如图中红色所示。\r\n",
    "```\r\n",
    "\r\n",
    "**示例 2：**\r\n",
    "\r\n",
    "```\r\n",
    "输入: \r\n",
    "n = 3, edges = [[0,1,100],[1,2,100],[0,2,500]]\r\n",
    "src = 0, dst = 2, k = 0\r\n",
    "输出: 500\r\n",
    "解释: \r\n",
    "城市航班图如下\r\n",
    "\r\n",
    "\r\n",
    "从城市 0 到城市 2 在 0 站中转以内的最便宜价格是 500，如图中蓝色所示。\r\n",
    "```\r\n",
    "\r\n",
    " \r\n",
    "\r\n",
    "**提示：**\r\n",
    "\r\n",
    "- `1 <= n <= 100`\r\n",
    "- `0 <= flights.length <= (n * (n - 1) / 2)`\r\n",
    "- `flights[i].length == 3`\r\n",
    "- `0 <= fromi, toi < n`\r\n",
    "- `fromi != toi`\r\n",
    "- `1 <= pricei <= 104`\r\n",
    "- 航班没有重复，且不存在自环\r\n",
    "- `0 <= src, dst, k < n`\r\n",
    "- `src != dst`\r\n",
    "\r\n",
    "------\r\n",
    "\r\n",
    "[Discussion](https://leetcode-cn.com/problems/cheapest-flights-within-k-stops/comments/) | [Solution](https://leetcode-cn.com/problems/cheapest-flights-within-k-stops/solution/)"
   ],
   "metadata": {}
  },
  {
   "cell_type": "markdown",
   "source": [
    "看上去应该是个有向图最短路径问题, 不过加了一层中转结点数目限制,第一反应是 Dijkstra 来求最短路径, 但是实际使用起来会超时(\r\n"
   ],
   "metadata": {}
  },
  {
   "cell_type": "markdown",
   "source": [
    "## [官方题解 - 动态规划](https://leetcode-cn.com/problems/cheapest-flights-within-k-stops/solution/k-zhan-zhong-zhuan-nei-zui-bian-yi-de-ha-abzi/)\r\n"
   ],
   "metadata": {}
  },
  {
   "cell_type": "code",
   "execution_count": null,
   "source": [
    "# 二维数组状态转移\r\n",
    "class Solution:\r\n",
    "    def findCheapestPrice(self, n: int, flights: List[List[int]], src: int, dst: int, k: int) -> int:\r\n",
    "        f = [[float(\"inf\")] * n for _ in range(k + 2)]\r\n",
    "        f[0][src] = 0\r\n",
    "        for t in range(1, k + 2):\r\n",
    "            for j, i, cost in flights:\r\n",
    "                f[t][i] = min(f[t][i], f[t - 1][j] + cost)\r\n",
    "        \r\n",
    "        ans = min(f[t][dst] for t in range(1, k + 2))\r\n",
    "        return -1 if ans == float(\"inf\") else ans\r\n",
    "\r\n",
    "# 作者：LeetCode-Solution\r\n",
    "# 链接：https://leetcode-cn.com/problems/cheapest-flights-within-k-stops/solution/k-zhan-zhong-zhuan-nei-zui-bian-yi-de-ha-abzi/\r\n",
    "# 来源：力扣（LeetCode）\r\n",
    "# 著作权归作者所有。商业转载请联系作者获得授权，非商业转载请注明出处。"
   ],
   "outputs": [],
   "metadata": {}
  },
  {
   "cell_type": "markdown",
   "source": [
    "Accepted  \r\n",
    "49/49 cases passed (196 ms)  \r\n",
    "Your runtime beats 54.17 % of python3 submissions  \r\n",
    "Your memory usage beats 57.59 % of python3 submissions (15.5 MB)"
   ],
   "metadata": {}
  },
  {
   "cell_type": "code",
   "execution_count": null,
   "source": [
    "# 一维数组状态转移\r\n",
    "class Solution:\r\n",
    "    def findCheapestPrice(self, n: int, flights: List[List[int]], src: int, dst: int, k: int) -> int:\r\n",
    "        f = [float(\"inf\")] * n\r\n",
    "        f[src] = 0\r\n",
    "        ans = float(\"inf\")\r\n",
    "        for t in range(1, k + 2):\r\n",
    "            g = [float(\"inf\")] * n\r\n",
    "            for j, i, cost in flights:\r\n",
    "                g[i] = min(g[i], f[j] + cost)\r\n",
    "            f = g   # 用完一层覆盖一层, 反正下一轮循环也只需要邻近的一层来运算\r\n",
    "            ans = min(ans, f[dst])  # 每更新完一层相应更新所需值\r\n",
    "        \r\n",
    "        return -1 if ans == float(\"inf\") else ans\r\n",
    "\r\n",
    "# 作者：LeetCode-Solution\r\n",
    "# 链接：https://leetcode-cn.com/problems/cheapest-flights-within-k-stops/solution/k-zhan-zhong-zhuan-nei-zui-bian-yi-de-ha-abzi/\r\n",
    "# 来源：力扣（LeetCode）\r\n",
    "# 著作权归作者所有。商业转载请联系作者获得授权，非商业转载请注明出处。"
   ],
   "outputs": [],
   "metadata": {}
  },
  {
   "cell_type": "markdown",
   "source": [
    "Accepted  \r\n",
    "49/49 cases passed (140 ms)  \r\n",
    "Your runtime beats 73.51 % of python3 submissions  \r\n",
    "Your memory usage beats 42.26 % of python3 submissions (15.7 MB)"
   ],
   "metadata": {}
  }
 ],
 "metadata": {
  "orig_nbformat": 4,
  "language_info": {
   "name": "python",
   "version": "3.8.5",
   "mimetype": "text/x-python",
   "codemirror_mode": {
    "name": "ipython",
    "version": 3
   },
   "pygments_lexer": "ipython3",
   "nbconvert_exporter": "python",
   "file_extension": ".py"
  },
  "kernelspec": {
   "name": "python3",
   "display_name": "Python 3.8.5 64-bit ('base': conda)"
  },
  "interpreter": {
   "hash": "be333bfaf4b40d9f2128eb06ccf81a284655b9f6c456fc22510d92c5f9e0d280"
  }
 },
 "nbformat": 4,
 "nbformat_minor": 2
}