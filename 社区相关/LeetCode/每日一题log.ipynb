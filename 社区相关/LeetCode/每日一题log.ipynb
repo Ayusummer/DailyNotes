{
 "cells": [
  {
   "cell_type": "markdown",
   "source": [
    "# 2021-8-23\r\n",
    "T1646.获取生成数组中的最大值\r\n",
    "\r\n",
    "# [获取生成数组中的最大值](https://leetcode-cn.com/problems/get-maximum-in-generated-array/description/)\r\n",
    "\r\n",
    "|  Category  |  Difficulty   | Likes | Dislikes |\r\n",
    "| :--------: | :-----------: | :---: | :------: |\r\n",
    "| algorithms | Easy (50.69%) |  21   |    -     |\r\n",
    "\r\n",
    "\r\n",
    "给你一个整数 `n` 。按下述规则生成一个长度为 `n + 1` 的数组 `nums` ：\r\n",
    "\r\n",
    "- `nums[0] = 0`\r\n",
    "- `nums[1] = 1`\r\n",
    "- 当 `2 <= 2 * i <= n` 时，`nums[2 * i] = nums[i]`\r\n",
    "- 当 `2 <= 2 * i + 1 <= n` 时，`nums[2 * i + 1] = nums[i] + nums[i + 1]`\r\n",
    "\r\n",
    "返回生成数组 `nums` 中的 **最大** 值。\r\n",
    "\r\n",
    " \r\n",
    "\r\n",
    "**示例 1：**\r\n",
    "\r\n",
    "```\r\n",
    "输入：n = 7\r\n",
    "输出：3\r\n",
    "解释：根据规则：\r\n",
    "  nums[0] = 0\r\n",
    "  nums[1] = 1\r\n",
    "  nums[(1 * 2) = 2] = nums[1] = 1\r\n",
    "  nums[(1 * 2) + 1 = 3] = nums[1] + nums[2] = 1 + 1 = 2\r\n",
    "  nums[(2 * 2) = 4] = nums[2] = 1\r\n",
    "  nums[(2 * 2) + 1 = 5] = nums[2] + nums[3] = 1 + 2 = 3\r\n",
    "  nums[(3 * 2) = 6] = nums[3] = 2\r\n",
    "  nums[(3 * 2) + 1 = 7] = nums[3] + nums[4] = 2 + 1 = 3\r\n",
    "因此，nums = [0,1,1,2,1,3,2,3]，最大值 3\r\n",
    "```\r\n",
    "\r\n",
    "**示例 2：**\r\n",
    "\r\n",
    "```\r\n",
    "输入：n = 2\r\n",
    "输出：1\r\n",
    "解释：根据规则，nums[0]、nums[1] 和 nums[2] 之中的最大值是 1\r\n",
    "```\r\n",
    "\r\n",
    "**示例 3：**\r\n",
    "\r\n",
    "```\r\n",
    "输入：n = 3\r\n",
    "输出：2\r\n",
    "解释：根据规则，nums[0]、nums[1]、nums[2] 和 nums[3] 之中的最大值是 2\r\n",
    "```\r\n",
    "\r\n",
    " \r\n",
    "\r\n",
    "**提示：**\r\n",
    "\r\n",
    "- `0 <= n <= 100`"
   ],
   "metadata": {}
  },
  {
   "cell_type": "code",
   "execution_count": 1,
   "source": [
    "# 个人解答\r\n",
    "class Solution:\r\n",
    "    def getMaximumGenerated(self, n: int) -> int:\r\n",
    "        if n == 0:\r\n",
    "            return 0\r\n",
    "        nums = [0]*(n+1)\r\n",
    "        nums[1] = 1\r\n",
    "        i = 2\r\n",
    "        while i < n+1:\r\n",
    "            if i%2 == 0:\r\n",
    "                nums[i] = nums[i//2]\r\n",
    "            else:\r\n",
    "                nums[i] = nums[i//2] + nums[i//2 + 1]\r\n",
    "            i += 1\r\n",
    "        return max(nums)"
   ],
   "outputs": [],
   "metadata": {}
  },
  {
   "cell_type": "markdown",
   "source": [
    "Accepted    \r\n",
    "101/101 cases passed (32 ms)    \r\n",
    "Your runtime beats 74.22 % of python3 submissions    \r\n",
    "Your memory usage beats 51.84 % of python3 submissions (14.9 MB)    "
   ],
   "metadata": {}
  },
  {
   "cell_type": "code",
   "execution_count": null,
   "source": [
    "# 官方解答\r\n",
    "class Solution:\r\n",
    "    def getMaximumGenerated(self, n: int) -> int:\r\n",
    "        if n == 0:\r\n",
    "            return 0\r\n",
    "        nums = [0]*(n+1)\r\n",
    "        nums[1] = 1\r\n",
    "        for i in range(2, n+1):\r\n",
    "            nums[i] = nums[i//2] + i % 2 * nums[i//2 + 1]\r\n",
    "        return max(nums)"
   ],
   "outputs": [],
   "metadata": {}
  },
  {
   "cell_type": "markdown",
   "source": [
    "Accepted   \r\n",
    "101/101 cases passed (36 ms)  \r\n",
    "Your runtime beats 51.84 % of python3 submissions  \r\n",
    "Your memory usage beats 60.91 % of python3 submissions (14.9 MB)  "
   ],
   "metadata": {}
  },
  {
   "cell_type": "markdown",
   "source": [
    "看样子基本语句还是要比调用库函数要快些\r\n",
    "\r\n",
    "然后就是最大值是否可以使用 max(nums) 之外的方式得出\r\n",
    "\r\n",
    "如果在生成序列时就将最大值确定下来的话会不会更快些 √  \r\n",
    "  确实可以快不少\r\n"
   ],
   "metadata": {}
  },
  {
   "cell_type": "code",
   "execution_count": 2,
   "source": [
    "# 使用基本循环及判断语句并在生成列表的过程中确定最大值\r\n",
    "class Solution:\r\n",
    "    def getMaximumGenerated(self, n: int) -> int:\r\n",
    "        if n == 0:\r\n",
    "            return 0\r\n",
    "        nums = [0]*(n+1)\r\n",
    "        nums[1] = 1\r\n",
    "        i = 2\r\n",
    "        max_n = 1\r\n",
    "        while i < n+1:\r\n",
    "            if i%2 == 0:\r\n",
    "                nums[i] = nums[i//2]\r\n",
    "            else:\r\n",
    "                nums[i] = nums[i//2] + nums[i//2 + 1]\r\n",
    "            max_n = nums[i] if nums[i] > max_n else max_n\r\n",
    "            i += 1\r\n",
    "        return max_n"
   ],
   "outputs": [],
   "metadata": {}
  },
  {
   "cell_type": "markdown",
   "source": [
    "Accepted  \r\n",
    "101/101 cases passed (28 ms)  \r\n",
    "Your runtime beats 89.52 % of python3 submissions  \r\n",
    "Your memory usage beats 68.27 % of python3 submissions (14.9 MB)  "
   ],
   "metadata": {}
  },
  {
   "cell_type": "markdown",
   "source": [
    "然后就是看看用时最短的解法\r\n",
    "->  \r\n",
    "不是很懂执行逻辑, 看了下用时最短的示例和上面第一版差不多, 实际执行起来的效率也差不多, 并没有示例图上显示的那么快\r\n"
   ],
   "metadata": {}
  }
 ],
 "metadata": {
  "orig_nbformat": 4,
  "language_info": {
   "name": "python",
   "version": "3.8.5",
   "mimetype": "text/x-python",
   "codemirror_mode": {
    "name": "ipython",
    "version": 3
   },
   "pygments_lexer": "ipython3",
   "nbconvert_exporter": "python",
   "file_extension": ".py"
  },
  "kernelspec": {
   "name": "python3",
   "display_name": "Python 3.8.5 64-bit ('base': conda)"
  },
  "interpreter": {
   "hash": "be333bfaf4b40d9f2128eb06ccf81a284655b9f6c456fc22510d92c5f9e0d280"
  }
 },
 "nbformat": 4,
 "nbformat_minor": 2
}