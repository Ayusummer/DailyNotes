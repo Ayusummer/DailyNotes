{
 "cells": [
  {
   "cell_type": "code",
   "execution_count": 2,
   "source": [
    "def getMaximumGenerated( n: int) -> int:\r\n",
    "    if n == 0:\r\n",
    "        return 0\r\n",
    "    nums = [0]*(n+1)\r\n",
    "    nums[1] = 1\r\n",
    "    max_num = 1\r\n",
    "    i = 2\r\n",
    "    while i < n+1:\r\n",
    "        nums[i] = nums[i//2] + i % 2 * nums[i//2 + 1]\r\n",
    "        max_num = max_num if max_num > nums[i] else nums[i]\r\n",
    "        i += 1\r\n",
    "    return max_num\r\n",
    "     \r\n",
    "getMaximumGenerated(5)"
   ],
   "outputs": [
    {
     "output_type": "execute_result",
     "data": {
      "text/plain": [
       "3"
      ]
     },
     "metadata": {},
     "execution_count": 2
    }
   ],
   "metadata": {}
  },
  {
   "cell_type": "code",
   "execution_count": 4,
   "source": [
    "f = [[float(\"INF\")]*4 for _ in range(4) ]\r\n",
    "f"
   ],
   "outputs": [
    {
     "output_type": "execute_result",
     "data": {
      "text/plain": [
       "[[inf, inf, inf, inf],\n",
       " [inf, inf, inf, inf],\n",
       " [inf, inf, inf, inf],\n",
       " [inf, inf, inf, inf]]"
      ]
     },
     "metadata": {},
     "execution_count": 4
    }
   ],
   "metadata": {}
  },
  {
   "cell_type": "code",
   "execution_count": 5,
   "source": [
    "def findCheapestPrice(n, flights, src, dst, k: int) -> int:\r\n",
    "    f = [float(\"INF\")] * n\r\n",
    "    f[src] = 0\r\n",
    "    ans = float(\"INF\")\r\n",
    "    for t in range(1, k+2):\r\n",
    "        g = [float(\"INF\")] * n\r\n",
    "        for j, i, cost in flights:\r\n",
    "            g[i] = min(g[i], f[j] + cost)\r\n",
    "        f = g\r\n",
    "        ans = ans if ans < f[dst] else f[dst]\r\n",
    "    return -1 if ans == float(\"INF\") else ans\r\n",
    "\r\n",
    "\r\n",
    "n = 3\r\n",
    "flights = [[0,1,100],[1,2,100],[0,2,500]]\r\n",
    "src = 0\r\n",
    "dst = 2\r\n",
    "k = 1\r\n",
    "findCheapestPrice(n, flights, src, dst, k)"
   ],
   "outputs": [
    {
     "output_type": "execute_result",
     "data": {
      "text/plain": [
       "200"
      ]
     },
     "metadata": {},
     "execution_count": 5
    }
   ],
   "metadata": {}
  },
  {
   "cell_type": "markdown",
   "source": [
    "---\r\n",
    "# 8.26"
   ],
   "metadata": {}
  },
  {
   "cell_type": "code",
   "execution_count": 14,
   "source": [
    "# T797. 所有可能的路径\r\n",
    "# 尝试深度优先搜索\r\n",
    "def allPathsSourceTarget(graph):\r\n",
    "    ans = list()\r\n",
    "    path = list()\r\n",
    "\r\n",
    "    def dfs(x: int):\r\n",
    "        if x == len(graph) - 1:\r\n",
    "            ans.append(path[:])\r\n",
    "            return\r\n",
    "\r\n",
    "        for y in graph[x]:\r\n",
    "            path.append(y)\r\n",
    "            dfs(y)\r\n",
    "            path.pop()\r\n",
    "\r\n",
    "    path.append(0)\r\n",
    "    dfs(0)\r\n",
    "\r\n",
    "    return ans\r\n",
    "            \r\n",
    "\r\n",
    "graph = [[1,2],[3],[3],[]]\r\n",
    "allPathsSourceTarget(graph)"
   ],
   "outputs": [
    {
     "output_type": "execute_result",
     "data": {
      "text/plain": [
       "[[0, 1, 3], [0, 2, 3]]"
      ]
     },
     "metadata": {},
     "execution_count": 14
    }
   ],
   "metadata": {}
  },
  {
   "cell_type": "code",
   "execution_count": 9,
   "source": [
    "# T1646.获取生成数组中的最大值\r\n",
    "def getMaximumGenerated( n: int) -> int:\r\n",
    "    if n == 0:\r\n",
    "        return 0\r\n",
    "    nums = [0] * (n + 1)\r\n",
    "    nums[1] = 1\r\n",
    "    max_num = 0\r\n",
    "    for i in range(2, n+1):\r\n",
    "        nums[i] = i % 2 *  nums[i//2 + 1] + nums[i//2]\r\n",
    "        max_num = max_num if max_num > nums[i] else nums[i]\r\n",
    "\r\n",
    "    print(nums)\r\n",
    "    return max_num\r\n",
    "\r\n",
    "getMaximumGenerated(5)\r\n"
   ],
   "outputs": [
    {
     "output_type": "stream",
     "name": "stdout",
     "text": [
      "[0, 1, 1, 2, 1, 3]\n"
     ]
    },
    {
     "output_type": "execute_result",
     "data": {
      "text/plain": [
       "3"
      ]
     },
     "metadata": {},
     "execution_count": 9
    }
   ],
   "metadata": {}
  },
  {
   "cell_type": "code",
   "execution_count": 12,
   "source": [
    "# T797. 所有可能的路径\r\n",
    "# 尝试深度优先搜索\r\n",
    "def allPathsSourceTarget(graph):\r\n",
    "    ans = list()\r\n",
    "    path = list()\r\n",
    "\r\n",
    "    def dfs(x: int):\r\n",
    "        if x == len(graph) -1:\r\n",
    "            ans.append(path[:])\r\n",
    "            return\r\n",
    "        \r\n",
    "        for y in graph[x]:\r\n",
    "            path.append(y)\r\n",
    "            dfs(y)\r\n",
    "            path.pop()\r\n",
    "\r\n",
    "    path.append(0)\r\n",
    "    dfs(0)\r\n",
    "\r\n",
    "    return ans\r\n",
    "\r\n",
    "\r\n",
    "            \r\n",
    "\r\n",
    "graph = [[1,2],[3],[3],[]]\r\n",
    "allPathsSourceTarget(graph)"
   ],
   "outputs": [
    {
     "output_type": "execute_result",
     "data": {
      "text/plain": [
       "[[0, 1, 3], [0, 2, 3]]"
      ]
     },
     "metadata": {},
     "execution_count": 12
    }
   ],
   "metadata": {}
  },
  {
   "cell_type": "code",
   "execution_count": null,
   "source": [
    "# 8-24 - 787 K 站中转内最便宜的航班\r\n",
    "def findCheapestPrice(n, flights, src, dst, k: int) -> int:\r\n",
    "    \r\n",
    "\r\n",
    "n = 3\r\n",
    "flights = [[0,1,100],[1,2,100],[0,2,500]]\r\n",
    "src = 0\r\n",
    "dst = 2\r\n",
    "k = 1\r\n",
    "findCheapestPrice(n, flights, src, dst, k)\r\n"
   ],
   "outputs": [],
   "metadata": {}
  },
  {
   "cell_type": "markdown",
   "source": [
    "---\r\n",
    "# 2021-8-27\r\n"
   ],
   "metadata": {}
  },
  {
   "cell_type": "code",
   "execution_count": 2,
   "source": [
    "lst = [ [float(\"INF\")] * 4 for _ in range(4) ]\r\n",
    "lst"
   ],
   "outputs": [
    {
     "output_type": "execute_result",
     "data": {
      "text/plain": [
       "[[inf, inf, inf, inf],\n",
       " [inf, inf, inf, inf],\n",
       " [inf, inf, inf, inf],\n",
       " [inf, inf, inf, inf]]"
      ]
     },
     "metadata": {},
     "execution_count": 2
    }
   ],
   "metadata": {}
  },
  {
   "cell_type": "code",
   "execution_count": 20,
   "source": [
    "# 881 - 救生艇\r\n",
    "# 尽可能多的让更多人坐两艘船\r\n",
    "\r\n",
    "def numRescueBoats(people, limit: int) -> int:\r\n",
    "    people.sort()\r\n",
    "    front, back, ans = 0, len(people) - 1, 0\r\n",
    "\r\n",
    "    while front <= back:\r\n",
    "        if people[front] + people[back] <= limit:\r\n",
    "            front += 1\r\n",
    "        back -= 1\r\n",
    "        ans += 1\r\n",
    "\r\n",
    "    return ans\r\n",
    "\r\n",
    "\r\n",
    "people = [3,5,3,4]\r\n",
    "limit = 5\r\n",
    "numRescueBoats(people, limit)\r\n"
   ],
   "outputs": [
    {
     "output_type": "execute_result",
     "data": {
      "text/plain": [
       "4"
      ]
     },
     "metadata": {},
     "execution_count": 20
    }
   ],
   "metadata": {}
  },
  {
   "cell_type": "code",
   "execution_count": 21,
   "source": [
    "# 8.24 - 787 K 站中转内最便宜的航班\r\n",
    "# 动态规划\r\n",
    "def findCheapestPrice(n, flights, src, dst, k: int) -> int:\r\n",
    "    f = [float(\"inf\")] * n\r\n",
    "    f[src] = 0\r\n",
    "    ans = float(\"inf\")\r\n",
    "    for t in range(1, k+2):\r\n",
    "        g = [float(\"inf\")] * n\r\n",
    "        for j, i, cost in flights:\r\n",
    "            g[i] = min(g[i], f[j] + cost)\r\n",
    "        f = g\r\n",
    "        ans = ans if ans < f[dst] else f[dst]\r\n",
    "    return -1 if ans == float(\"inf\") else ans\r\n",
    "    \r\n",
    "n = 3\r\n",
    "flights = [[0,1,100],[1,2,100],[0,2,500]]\r\n",
    "src = 0\r\n",
    "dst = 2\r\n",
    "k = 1\r\n",
    "findCheapestPrice(n, flights, src, dst, k)"
   ],
   "outputs": [
    {
     "output_type": "execute_result",
     "data": {
      "text/plain": [
       "200"
      ]
     },
     "metadata": {},
     "execution_count": 21
    }
   ],
   "metadata": {}
  },
  {
   "cell_type": "markdown",
   "source": [
    "---\r\n",
    "# 2021-8-31"
   ],
   "metadata": {}
  },
  {
   "cell_type": "code",
   "execution_count": 1,
   "source": [
    "# 2021-8-25-[797.所有可能的路径](https://leetcode-cn.com/problems/all-paths-from-source-to-target/description/)\r\n",
    "# 深度优先搜索\r\n",
    "from typing import List\r\n",
    "\r\n",
    "class Solution:\r\n",
    "    def allPathsSourceTarget(self, graph: List[List[int]]) -> List[List[int]]:\r\n",
    "        ans = list()\r\n",
    "        stk = list()\r\n",
    "\r\n",
    "        def dfs(x: int):\r\n",
    "            if x == len(graph) - 1:\r\n",
    "                ans.append(stk[:])\r\n",
    "                return\r\n",
    "            for y in graph[x]:\r\n",
    "                stk.append(y)\r\n",
    "                dfs(y)\r\n",
    "                stk.pop()\r\n",
    "\r\n",
    "        stk.append(0)\r\n",
    "        dfs(0)\r\n",
    "        return ans\r\n",
    "\r\n",
    "\r\n",
    "solution  = Solution()\r\n",
    "graph = [[1,2],[3],[3],[]]\r\n",
    "solution.allPathsSourceTarget(graph)\r\n",
    "\r\n",
    "\r\n",
    "# 示例输出: [0, 1, 3], [0, 2, 3]\r\n"
   ],
   "outputs": [
    {
     "output_type": "execute_result",
     "data": {
      "text/plain": [
       "[[0, 1, 3], [0, 2, 3]]"
      ]
     },
     "metadata": {},
     "execution_count": 1
    }
   ],
   "metadata": {}
  }
 ],
 "metadata": {
  "orig_nbformat": 4,
  "language_info": {
   "name": "python",
   "version": "3.8.5",
   "mimetype": "text/x-python",
   "codemirror_mode": {
    "name": "ipython",
    "version": 3
   },
   "pygments_lexer": "ipython3",
   "nbconvert_exporter": "python",
   "file_extension": ".py"
  },
  "kernelspec": {
   "name": "python3",
   "display_name": "Python 3.8.5 64-bit ('base': conda)"
  },
  "interpreter": {
   "hash": "be333bfaf4b40d9f2128eb06ccf81a284655b9f6c456fc22510d92c5f9e0d280"
  }
 },
 "nbformat": 4,
 "nbformat_minor": 2
}